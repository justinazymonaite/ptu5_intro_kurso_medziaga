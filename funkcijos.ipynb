{
 "cells": [
  {
   "cell_type": "code",
   "execution_count": null,
   "metadata": {},
   "outputs": [],
   "source": [
    "def pasisveikinti():\n",
    "    pass   # jeigu tuscia funkcija"
   ]
  },
  {
   "cell_type": "code",
   "execution_count": 7,
   "metadata": {},
   "outputs": [],
   "source": [
    "def pasisveikinimas():\n",
    "    print('Labas')\n",
    "\n",
    "def besikartojantis(kartas):\n",
    "    print(f'Labas {kartas} karta')\n",
    "\n",
    "def vardinis(vardas):\n",
    "    print('Labas', vardas)"
   ]
  },
  {
   "cell_type": "code",
   "execution_count": 3,
   "metadata": {},
   "outputs": [
    {
     "name": "stdout",
     "output_type": "stream",
     "text": [
      "Labas\n",
      "Labas\n"
     ]
    }
   ],
   "source": [
    "# funkcijos iskvietimas\n",
    "\n",
    "pasisveikinimas()\n",
    "pasisveikinimas()"
   ]
  },
  {
   "cell_type": "code",
   "execution_count": 4,
   "metadata": {},
   "outputs": [
    {
     "name": "stdout",
     "output_type": "stream",
     "text": [
      "Labas\n",
      "Labas\n",
      "Labas\n",
      "Labas\n",
      "Labas\n"
     ]
    }
   ],
   "source": [
    "# sukurta funkcija galima paleisti ir cikle\n",
    "for kartas in range(5):\n",
    "    pasisveikinimas()\n"
   ]
  },
  {
   "cell_type": "code",
   "execution_count": 6,
   "metadata": {},
   "outputs": [
    {
     "name": "stdout",
     "output_type": "stream",
     "text": [
      "Labas 1 karta\n",
      "Labas 2 karta\n",
      "Labas 3 karta\n",
      "Labas 4 karta\n",
      "Labas 5 karta\n"
     ]
    }
   ],
   "source": [
    "for kartas in range(5):\n",
    "    besikartojantis(kartas+1)"
   ]
  },
  {
   "cell_type": "code",
   "execution_count": 9,
   "metadata": {},
   "outputs": [
    {
     "name": "stdout",
     "output_type": "stream",
     "text": [
      "Labas mykolas\n"
     ]
    }
   ],
   "source": [
    "vardas = input('koks tavo vardas')\n",
    "vardinis(vardas)"
   ]
  },
  {
   "cell_type": "markdown",
   "metadata": {},
   "source": [
    "matematines funkcijos"
   ]
  },
  {
   "cell_type": "code",
   "execution_count": 10,
   "metadata": {},
   "outputs": [],
   "source": [
    "def kvadratu(skaicius):\n",
    "    print(skaicius**2)"
   ]
  },
  {
   "cell_type": "code",
   "execution_count": 11,
   "metadata": {},
   "outputs": [
    {
     "name": "stdout",
     "output_type": "stream",
     "text": [
      "49\n"
     ]
    }
   ],
   "source": [
    "kvadratu(7)"
   ]
  },
  {
   "cell_type": "code",
   "execution_count": 12,
   "metadata": {},
   "outputs": [],
   "source": [
    "# funkcijos rezultato priskyrimas kintamajam rezultatas, tada funkcija grazina rezultata (return)\n",
    "# grazinta rezultata mes jau galime prisskirti naujam kintamajam ir ji naudoti toliau\n",
    "\n",
    "def kvadratu(skaicius):\n",
    "    rezultatas = skaicius**2\n",
    "    return rezultatas"
   ]
  },
  {
   "cell_type": "code",
   "execution_count": 16,
   "metadata": {},
   "outputs": [
    {
     "name": "stdout",
     "output_type": "stream",
     "text": [
      "36\n",
      "49\n",
      "2401\n"
     ]
    }
   ],
   "source": [
    "print(kvadratu(6)) # spausdinam funkcijos rezultata\n",
    "rez = kvadratu(7) # funkcijos rezultata prisiskiriam naujam kintamajam\n",
    "print(rez)\n",
    "rez2 = kvadratu(rez) # funkcijos rezultata perduodam kitai arba tai paciai funkcijai kaip argumenta\n",
    "print(rez2)"
   ]
  },
  {
   "cell_type": "code",
   "execution_count": 24,
   "metadata": {},
   "outputs": [
    {
     "name": "stdout",
     "output_type": "stream",
     "text": [
      "50\n"
     ]
    }
   ],
   "source": [
    "sudauginta = kvadratu(5) * 2 # panaudojam funkcijos rezultata veiksmams atlikti\n",
    "print(sudauginta)"
   ]
  },
  {
   "cell_type": "code",
   "execution_count": 17,
   "metadata": {},
   "outputs": [],
   "source": [
    "def sukurti_banana():\n",
    "    return 'bananas'"
   ]
  },
  {
   "cell_type": "code",
   "execution_count": 20,
   "metadata": {},
   "outputs": [],
   "source": [
    "def sukurti_apelsina():\n",
    "    x = 'apelsinas'\n",
    "    return x"
   ]
  },
  {
   "cell_type": "code",
   "execution_count": 21,
   "metadata": {},
   "outputs": [
    {
     "name": "stdout",
     "output_type": "stream",
     "text": [
      "bananas\n",
      "apelsinas\n"
     ]
    }
   ],
   "source": [
    "vaisius = sukurti_banana()\n",
    "print(vaisius)\n",
    "vaisius2 = sukurti_apelsina()\n",
    "print(vaisius2)"
   ]
  },
  {
   "cell_type": "code",
   "execution_count": 22,
   "metadata": {},
   "outputs": [],
   "source": [
    "def sukurti_banana(kiekis):\n",
    "    x = f'{kiekis} bananu'\n",
    "    return x"
   ]
  },
  {
   "cell_type": "code",
   "execution_count": 23,
   "metadata": {},
   "outputs": [
    {
     "name": "stdout",
     "output_type": "stream",
     "text": [
      "7 bananu\n"
     ]
    }
   ],
   "source": [
    "vaisius = sukurti_banana(7)\n",
    "print(vaisius)"
   ]
  },
  {
   "cell_type": "markdown",
   "metadata": {},
   "source": [
    "# funkcijos su keliais argumentais"
   ]
  },
  {
   "cell_type": "code",
   "execution_count": 25,
   "metadata": {},
   "outputs": [],
   "source": [
    "def laipsniu(skaicius, laipsnis): # funkcijai reiks nurodyti du argumentus\n",
    "    return skaicius**laipsnis"
   ]
  },
  {
   "cell_type": "code",
   "execution_count": 26,
   "metadata": {},
   "outputs": [
    {
     "name": "stdout",
     "output_type": "stream",
     "text": [
      "8\n"
     ]
    }
   ],
   "source": [
    "print(laipsniu(2,3))"
   ]
  },
  {
   "cell_type": "markdown",
   "metadata": {},
   "source": [
    "# funkcijos su nebutinais argumentais"
   ]
  },
  {
   "cell_type": "code",
   "execution_count": 27,
   "metadata": {},
   "outputs": [],
   "source": [
    "def laipsniu(skaicius, laipsnis=2): # nusirodom, kad pagal nutylejima laipsnis bus 2, jeigu funkcijai nenurodysim kitap; nebutini argumentai visada turi eiti po butinu, jei tokiu yra\n",
    "    return skaicius**laipsnis"
   ]
  },
  {
   "cell_type": "code",
   "execution_count": 29,
   "metadata": {},
   "outputs": [
    {
     "name": "stdout",
     "output_type": "stream",
     "text": [
      "4\n",
      "16\n"
     ]
    }
   ],
   "source": [
    "print(laipsniu(2))\n",
    "print(laipsniu(2,4))"
   ]
  },
  {
   "cell_type": "code",
   "execution_count": 31,
   "metadata": {},
   "outputs": [],
   "source": [
    "# su trim argumentais\n",
    "def suma(s1=1, s2=2, s3=3):\n",
    "    return s1+s2+s3"
   ]
  },
  {
   "cell_type": "code",
   "execution_count": 34,
   "metadata": {},
   "outputs": [
    {
     "name": "stdout",
     "output_type": "stream",
     "text": [
      "6\n",
      "9\n",
      "0\n"
     ]
    }
   ],
   "source": [
    "print(suma())\n",
    "print(suma(2, 4))\n",
    "print(suma(2, 4, -6))"
   ]
  },
  {
   "cell_type": "markdown",
   "metadata": {},
   "source": [
    "# Neriboti argumentai"
   ]
  },
  {
   "cell_type": "code",
   "execution_count": 52,
   "metadata": {},
   "outputs": [],
   "source": [
    "def dauginam(*args): # pagal nutylejima neribotus argumentus iprasta vadinti args, po args negali buti kitu argumentu\n",
    "    for skaicius in args:\n",
    "        print(skaicius ** 2)"
   ]
  },
  {
   "cell_type": "code",
   "execution_count": 53,
   "metadata": {},
   "outputs": [
    {
     "name": "stdout",
     "output_type": "stream",
     "text": [
      "4\n",
      "16\n",
      "25\n",
      "49\n"
     ]
    }
   ],
   "source": [
    "dauginam(2,4,5,7) # funkcija veiks su tiek parametru, kiek mes jai paduosim"
   ]
  },
  {
   "cell_type": "markdown",
   "metadata": {},
   "source": [
    "# **kwargs"
   ]
  },
  {
   "cell_type": "code",
   "execution_count": 70,
   "metadata": {},
   "outputs": [],
   "source": [
    "# **kwargs yra keywords arguments. Techniskai kwargs yra zodynas\n",
    "\n",
    "def spausdinam_reiksme(**kwargs):\n",
    "    for raktas, reiksme in kwargs.items():\n",
    "        print(f'{raktas}:{reiksme}')\n"
   ]
  },
  {
   "cell_type": "code",
   "execution_count": 58,
   "metadata": {},
   "outputs": [
    {
     "name": "stdout",
     "output_type": "stream",
     "text": [
      "vardas:justina\n",
      "pavarde:Zymonaite\n",
      "amzius:33\n"
     ]
    }
   ],
   "source": [
    "spausdinam_reiksme(vardas='justina', pavarde='Zymonaite', amzius=33, )"
   ]
  },
  {
   "cell_type": "code",
   "execution_count": 73,
   "metadata": {},
   "outputs": [],
   "source": [
    "def spausdinam_tik_reiksme(**kwargs):\n",
    "    for reiksme in kwargs.values():\n",
    "        print(str(reiksme).upper())\n"
   ]
  },
  {
   "cell_type": "code",
   "execution_count": 75,
   "metadata": {},
   "outputs": [
    {
     "name": "stdout",
     "output_type": "stream",
     "text": [
      "JUSTINA\n",
      "ZYMONAITE\n",
      "33\n"
     ]
    }
   ],
   "source": [
    "spausdinam_tik_reiksme(vardas='justina', pavarde='Zymonaite', amzius=33, )"
   ]
  },
  {
   "cell_type": "code",
   "execution_count": 71,
   "metadata": {},
   "outputs": [
    {
     "name": "stdout",
     "output_type": "stream",
     "text": [
      "vardas:mama\n",
      "vaikai:['jonas', 'petras', 'mantas']\n",
      "gyvunai:['suo', 'kate']\n"
     ]
    }
   ],
   "source": [
    "spausdinam_reiksme(vardas='mama', vaikai=['jonas', 'petras', 'mantas'], gyvunai=['suo', 'kate'],)"
   ]
  },
  {
   "cell_type": "code",
   "execution_count": 74,
   "metadata": {},
   "outputs": [
    {
     "name": "stdout",
     "output_type": "stream",
     "text": [
      "MAMA\n",
      "['JONAS', 'PETRAS', 'MANTAS']\n",
      "['SUO', 'KATE']\n"
     ]
    }
   ],
   "source": [
    "spausdinam_tik_reiksme(vardas='mama', vaikai=['jonas', 'petras', 'mantas'], gyvunai=['suo', 'kate'],)"
   ]
  },
  {
   "cell_type": "markdown",
   "metadata": {},
   "source": [
    "# Funkcijos su iprastais ir neribotais argumentais"
   ]
  },
  {
   "cell_type": "code",
   "execution_count": 9,
   "metadata": {},
   "outputs": [],
   "source": [
    "def spausdinti_reiksmes(vardas, pavarde, *vaikai, **kwargs):\n",
    "    '''\n",
    "    taip galima padaryti vieta, kur aprasom, ka fynkcija daro\n",
    "    t.y. funkcijos dokumentacija\n",
    "    '''\n",
    "    print(f'vardas:{vardas}, pavarde:{pavarde}, vaikai:')\n",
    "    for x in vaikai:\n",
    "        print(f'- {x}')\n",
    "    for raktas, reiksme in kwargs.items():\n",
    "        print(raktas,reiksme)\n"
   ]
  },
  {
   "cell_type": "code",
   "execution_count": 90,
   "metadata": {},
   "outputs": [
    {
     "name": "stdout",
     "output_type": "stream",
     "text": [
      "vardas:Justina, pavarde:Zymonaite, vaikai:\n",
      "- antanas\n",
      "- greta\n",
      "lytis moteris\n",
      "amzius 33\n",
      "daiktai ['kompiuteris', 'stalas', 'telefonas', 'automobilis']\n"
     ]
    }
   ],
   "source": [
    "spausdinti_reiksmes('Justina', 'Zymonaite', 'antanas', 'greta', lytis='moteris', amzius=33, daiktai=['kompiuteris','stalas','telefonas','automobilis'],)"
   ]
  },
  {
   "cell_type": "code",
   "execution_count": 10,
   "metadata": {},
   "outputs": [
    {
     "name": "stdout",
     "output_type": "stream",
     "text": [
      "\n",
      "    taip galima padaryti vieta, kur aprasom, ka fynkcija daro\n",
      "    t.y. funkcijos dokumentacija\n",
      "    \n"
     ]
    }
   ],
   "source": [
    "print(spausdinti_reiksmes.__doc__)"
   ]
  },
  {
   "cell_type": "markdown",
   "metadata": {},
   "source": [
    "# global/local kintamieji"
   ]
  },
  {
   "cell_type": "code",
   "execution_count": 3,
   "metadata": {},
   "outputs": [
    {
     "name": "stdout",
     "output_type": "stream",
     "text": [
      "22\n"
     ]
    },
    {
     "ename": "NameError",
     "evalue": "name 'lokalus' is not defined",
     "output_type": "error",
     "traceback": [
      "\u001b[1;31m---------------------------------------------------------------------------\u001b[0m",
      "\u001b[1;31mNameError\u001b[0m                                 Traceback (most recent call last)",
      "Cell \u001b[1;32mIn [3], line 9\u001b[0m\n\u001b[0;32m      6\u001b[0m     \u001b[38;5;28mprint\u001b[39m(suma)\n\u001b[0;32m      8\u001b[0m funkcija()\n\u001b[1;32m----> 9\u001b[0m suma \u001b[38;5;241m=\u001b[39m globalus \u001b[38;5;241m+\u001b[39m \u001b[43mlokalus\u001b[49m\n",
      "\u001b[1;31mNameError\u001b[0m: name 'lokalus' is not defined"
     ]
    }
   ],
   "source": [
    "globalus = 10\n",
    "\n",
    "def funkcija():\n",
    "    lokalus = 12\n",
    "    suma = globalus + lokalus\n",
    "    print(suma)\n",
    "\n",
    "funkcija()\n",
    "suma = globalus + lokalus #kintamasis lokalus egzistuoja tik funkcijos ribose"
   ]
  },
  {
   "cell_type": "code",
   "execution_count": 5,
   "metadata": {},
   "outputs": [
    {
     "name": "stdout",
     "output_type": "stream",
     "text": [
      "22\n",
      "21\n"
     ]
    }
   ],
   "source": [
    "def funkcija(argas=10):\n",
    "    lokalus = 12\n",
    "    suma = argas + lokalus\n",
    "    print(suma)\n",
    "\n",
    "funkcija()\n",
    "funkcija(9)"
   ]
  },
  {
   "cell_type": "code",
   "execution_count": 7,
   "metadata": {},
   "outputs": [
    {
     "name": "stdout",
     "output_type": "stream",
     "text": [
      "21\n",
      "12\n"
     ]
    }
   ],
   "source": [
    "def funkcija(argas=10):\n",
    "    lokalus = 12\n",
    "    suma = argas + lokalus\n",
    "    print(suma)\n",
    "    return lokalus\n",
    "\n",
    "lokalus = funkcija(9)\n",
    "print(lokalus)"
   ]
  },
  {
   "cell_type": "markdown",
   "metadata": {},
   "source": [
    "# uzduotys"
   ]
  },
  {
   "cell_type": "code",
   "execution_count": null,
   "metadata": {},
   "outputs": [],
   "source": [
    "# 1 užduotis\n",
    "\n",
    "# Sukurkite ir išsibandykite funkcijas, kurios:\n",
    "\n",
    "#     Gražinti trijų paduotų skaičių sumą.\n",
    "#     Gražintų paduoto sąrašo iš skaičių, sumą.\n",
    "#     Atspausdintų didžiausią iš kelių paduotų skaičių (panaudojant *args).\n",
    "#     Gražintų paduotą stringą atbulai.\n",
    "#     Atspausdintų, kiek paduotame stringe yra žodžių, didžiųjų ir mažųjų raidžių, skaičių.\n",
    "#     Gražintų sąrašą tik su unikaliais paduoto sąrašo elementais.\n",
    "#     Gražintų, ar paduotas skaičius yra pirminis.\n",
    "#     Išrikiuotų paduoto stringo žodžius nuo paskutinio iki pirmojo\n",
    "#     Gražina, ar paduoti metai yra keliamieji, ar ne.\n",
    "#     Atspausdina, kiek nuo paduotos sukakties praėjo metų, mėnesių, dienų, valandų, minučių, sekundžių.\n"
   ]
  },
  {
   "cell_type": "code",
   "execution_count": 111,
   "metadata": {},
   "outputs": [
    {
     "name": "stdout",
     "output_type": "stream",
     "text": [
      "15\n"
     ]
    }
   ],
   "source": [
    "# 1.1 Gražinti trijų paduotų skaičių sumą.\n",
    "def suma(s1, s2, s3):\n",
    "    return s1+s2+s3\n",
    "\n",
    "print(suma(2, 4, 9))"
   ]
  },
  {
   "cell_type": "code",
   "execution_count": 112,
   "metadata": {},
   "outputs": [
    {
     "name": "stdout",
     "output_type": "stream",
     "text": [
      "11\n"
     ]
    }
   ],
   "source": [
    "# 1.2 Gražintų paduoto sąrašo iš skaičių, sumą.\n",
    "def sar_suma(sarasas):\n",
    "    return sum(sarasas)\n",
    "\n",
    "print(sar_suma([2,4,5]))"
   ]
  },
  {
   "cell_type": "code",
   "execution_count": 116,
   "metadata": {},
   "outputs": [
    {
     "name": "stdout",
     "output_type": "stream",
     "text": [
      "18\n"
     ]
    }
   ],
   "source": [
    "# 1.3 Atspausdintų didžiausią iš kelių paduotų skaičių (panaudojant *args).\n",
    "def didziausias(sarasas):\n",
    "    print(max(sarasas))\n",
    "\n",
    "didziausias([2,18,5])"
   ]
  },
  {
   "cell_type": "code",
   "execution_count": 138,
   "metadata": {},
   "outputs": [
    {
     "name": "stdout",
     "output_type": "stream",
     "text": [
      "9\n"
     ]
    }
   ],
   "source": [
    "# 1.3 Atspausdintų didžiausią iš kelių paduotų skaičių (panaudojant *args).\n",
    "def didziausias(*args):\n",
    "    print(max(*args))\n",
    "\n",
    "didziausias(2,9,5,-4)"
   ]
  },
  {
   "cell_type": "code",
   "execution_count": 44,
   "metadata": {},
   "outputs": [
    {
     "name": "stdout",
     "output_type": "stream",
     "text": [
      "sugnad\n"
     ]
    }
   ],
   "source": [
    "# 1.4 Gražintų paduotą stringą atbulai.\n",
    "def atbulai(tekstas):\n",
    "    return tekstas[::-1]\n",
    "\n",
    "print(atbulai('dangus'))"
   ]
  },
  {
   "cell_type": "code",
   "execution_count": 160,
   "metadata": {},
   "outputs": [],
   "source": [
    "# 1.5 Atspausdintų, kiek paduotame stringe yra žodžių, didžiųjų ir mažųjų raidžių, skaičių.\n",
    "\n",
    "def skaiciuojam_tekste(tekstas):\n",
    "    didziosios = 0\n",
    "    mazosios = 0\n",
    "    skaiciai = 0\n",
    "    for raide in tekstas:\n",
    "        if(raide.isupper()):\n",
    "            didziosios += 1\n",
    "        elif(raide.islower()):\n",
    "            mazosios += 1\n",
    "        elif(raide.isnumeric()):\n",
    "            skaiciai +=1\n",
    "    print(len(tekstas.split()),' zodziai', '\\n', didziosios, 'didziuju r', '\\n', mazosios, 'mazuju r', '\\n', skaiciai, 'skaiciu')  \n"
   ]
  },
  {
   "cell_type": "code",
   "execution_count": 161,
   "metadata": {},
   "outputs": [
    {
     "name": "stdout",
     "output_type": "stream",
     "text": [
      "6  zodziai \n",
      " 3 didziuju r \n",
      " 18 mazuju r \n",
      " 3 skaiciu\n"
     ]
    }
   ],
   "source": [
    "skaiciuojam_tekste('Dangus 7 Yra Tikrai 82 zydras')"
   ]
  },
  {
   "cell_type": "code",
   "execution_count": 166,
   "metadata": {},
   "outputs": [],
   "source": [
    "# 1.6 Gražintų sąrašą tik su unikaliais paduoto sąrašo elementais.\n",
    "\n",
    "def unikalus(sarasas):\n",
    "    tik_unikalios = []\n",
    "    for elementas in sarasas:\n",
    "        if elementas not in tik_unikalios:\n",
    "            tik_unikalios.append(elementas)\n",
    "    return tik_unikalios"
   ]
  },
  {
   "cell_type": "code",
   "execution_count": 167,
   "metadata": {},
   "outputs": [
    {
     "name": "stdout",
     "output_type": "stream",
     "text": [
      "[4, 6, 7, 23, 5, 8, 57, 40]\n"
     ]
    }
   ],
   "source": [
    "listas = [4,6,6,7,23,23,5,8,57,4,40,40,40]\n",
    "print(unikalus(listas))"
   ]
  },
  {
   "cell_type": "code",
   "execution_count": 174,
   "metadata": {},
   "outputs": [],
   "source": [
    "# 1.7 Gražintų, ar paduotas skaičius yra pirminis.\n",
    "def pirminis(skaicius):\n",
    "    for sk in range(2, int(skaicius**0.5)+1):\n",
    "        if skaicius % sk == 0:\n",
    "            return 'skaicius nera pirminis'\n",
    "    return 'skaicius yra pirminis'"
   ]
  },
  {
   "cell_type": "code",
   "execution_count": 180,
   "metadata": {},
   "outputs": [
    {
     "name": "stdout",
     "output_type": "stream",
     "text": [
      "skaicius yra pirminis\n"
     ]
    }
   ],
   "source": [
    "print(pirminis(31))"
   ]
  },
  {
   "cell_type": "code",
   "execution_count": 170,
   "metadata": {},
   "outputs": [],
   "source": [
    "# 1.8 Išrikiuotų paduoto stringo žodžius nuo paskutinio iki pirmojo\n",
    "def rikiuoti(tekstas):\n",
    "    for zodziai in tekstas.split():\n",
    "        print(zodziai)"
   ]
  },
  {
   "cell_type": "code",
   "execution_count": 171,
   "metadata": {},
   "outputs": [
    {
     "name": "stdout",
     "output_type": "stream",
     "text": [
      "Išrikiuotų\n",
      "paduoto\n",
      "stringo\n",
      "žodžius\n",
      "nuo\n",
      "paskutinio\n",
      "iki\n",
      "pirmojo\n"
     ]
    }
   ],
   "source": [
    "rikiuoti('Išrikiuotų paduoto stringo žodžius nuo paskutinio iki pirmojo')"
   ]
  },
  {
   "cell_type": "code",
   "execution_count": 183,
   "metadata": {},
   "outputs": [],
   "source": [
    "# 1.9 Gražina, ar paduoti metai yra keliamieji, ar ne.\n",
    "def keliamieji(metai):\n",
    "    if metai % 4 == 0 and (metai % 100 != 0 or metai % 400 == 0):\n",
    "        return 'metai yra keliemieji'\n",
    "    return 'metai nera keliamieji'"
   ]
  },
  {
   "cell_type": "code",
   "execution_count": 186,
   "metadata": {},
   "outputs": [
    {
     "name": "stdout",
     "output_type": "stream",
     "text": [
      "metai nera keliamieji\n"
     ]
    }
   ],
   "source": [
    "print(keliamieji(2023))"
   ]
  }
 ],
 "metadata": {
  "kernelspec": {
   "display_name": "Python 3.10.7 ('venv': venv)",
   "language": "python",
   "name": "python3"
  },
  "language_info": {
   "codemirror_mode": {
    "name": "ipython",
    "version": 3
   },
   "file_extension": ".py",
   "mimetype": "text/x-python",
   "name": "python",
   "nbconvert_exporter": "python",
   "pygments_lexer": "ipython3",
   "version": "3.10.7"
  },
  "orig_nbformat": 4,
  "vscode": {
   "interpreter": {
    "hash": "6de887b4c384460d342b5baf6bfe7e2ff1890b24938af7c10c565ff6b284cde1"
   }
  }
 },
 "nbformat": 4,
 "nbformat_minor": 2
}
