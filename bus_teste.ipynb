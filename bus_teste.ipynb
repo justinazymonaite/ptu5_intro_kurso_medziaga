{
 "cells": [
  {
   "cell_type": "code",
   "execution_count": null,
   "metadata": {},
   "outputs": [],
   "source": [
    "print('labas')"
   ]
  },
  {
   "cell_type": "code",
   "execution_count": null,
   "metadata": {},
   "outputs": [],
   "source": [
    "# sitas bus atsiskaitymo teste\n",
    "\n",
    "ivestas = int(input('iveskite skaiciu'))\n",
    "\n",
    "for skaicius in range(ivestas+1):\n",
    "    print(skaicius)\n",
    "    if skaicius == 5:\n",
    "        print('nutraukiam cikla')\n",
    "        break\n",
    "else:\n",
    "    print('ciklas nebuvo nutrauktas')"
   ]
  }
 ],
 "metadata": {
  "kernelspec": {
   "display_name": "Python 3.10.7 ('venv': venv)",
   "language": "python",
   "name": "python3"
  },
  "language_info": {
   "name": "python",
   "version": "3.10.7"
  },
  "orig_nbformat": 4,
  "vscode": {
   "interpreter": {
    "hash": "6de887b4c384460d342b5baf6bfe7e2ff1890b24938af7c10c565ff6b284cde1"
   }
  }
 },
 "nbformat": 4,
 "nbformat_minor": 2
}
