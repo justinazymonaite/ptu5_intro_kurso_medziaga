{
 "cells": [
  {
   "cell_type": "markdown",
   "metadata": {},
   "source": [
    "# sarasai"
   ]
  },
  {
   "cell_type": "code",
   "execution_count": 5,
   "metadata": {},
   "outputs": [
    {
     "name": "stdout",
     "output_type": "stream",
     "text": [
      "['Zen', 'of', 'Python']\n",
      "Zen~of~Python\n"
     ]
    }
   ],
   "source": [
    "zodziai = ['Zen', 'of', 'Python']\n",
    "print(zodziai)\n",
    "print('~'.join(zodziai))"
   ]
  },
  {
   "cell_type": "code",
   "execution_count": 6,
   "metadata": {},
   "outputs": [],
   "source": [
    "zodziai.append('and')\n"
   ]
  },
  {
   "cell_type": "code",
   "execution_count": 7,
   "metadata": {},
   "outputs": [
    {
     "name": "stdout",
     "output_type": "stream",
     "text": [
      "['Zen', 'of', 'Python', 'and']\n"
     ]
    }
   ],
   "source": [
    "print(zodziai)"
   ]
  },
  {
   "cell_type": "code",
   "execution_count": 8,
   "metadata": {},
   "outputs": [],
   "source": [
    "zodziai.insert(1, 'Programing')"
   ]
  },
  {
   "cell_type": "code",
   "execution_count": 9,
   "metadata": {},
   "outputs": [
    {
     "name": "stdout",
     "output_type": "stream",
     "text": [
      "['Zen', 'Programing', 'of', 'Python', 'and']\n"
     ]
    }
   ],
   "source": [
    "print(zodziai)"
   ]
  },
  {
   "cell_type": "markdown",
   "metadata": {},
   "source": [
    "# zodynai"
   ]
  },
  {
   "cell_type": "code",
   "execution_count": 10,
   "metadata": {},
   "outputs": [],
   "source": [
    "zodynas = {'Kestutis':39, 'linas':30, 'Ingrida':30, 'Mantas':32, 'Darius':37 }"
   ]
  },
  {
   "cell_type": "code",
   "execution_count": 11,
   "metadata": {},
   "outputs": [
    {
     "name": "stdout",
     "output_type": "stream",
     "text": [
      "{'Kestutis': 39, 'linas': 30, 'Ingrida': 30, 'Mantas': 32, 'Darius': 37}\n",
      "30\n",
      "32\n"
     ]
    }
   ],
   "source": [
    "print(zodynas)\n",
    "print(zodynas['Ingrida'])\n",
    "print(zodynas['Mantas'])"
   ]
  },
  {
   "cell_type": "code",
   "execution_count": 12,
   "metadata": {},
   "outputs": [],
   "source": [
    "automobilis = {'Gamintojas':'Jaguar', 'modelis':'f-pace','metai':2019, 'variklis':2.0, 'kuras':'benzinas', 'spalva':'balta'}"
   ]
  },
  {
   "cell_type": "code",
   "execution_count": 13,
   "metadata": {},
   "outputs": [
    {
     "name": "stdout",
     "output_type": "stream",
     "text": [
      "{'Gamintojas': 'Jaguar', 'modelis': 'f-pace', 'metai': 2019, 'variklis': 2.0, 'kuras': 'benzinas', 'spalva': 'balta'}\n",
      "2019\n",
      "balta\n"
     ]
    }
   ],
   "source": [
    "print(automobilis)\n",
    "print(automobilis['metai'])\n",
    "print(automobilis['spalva'])"
   ]
  },
  {
   "cell_type": "code",
   "execution_count": 14,
   "metadata": {},
   "outputs": [],
   "source": [
    "automobilis['spalva']='juoda'"
   ]
  },
  {
   "cell_type": "code",
   "execution_count": 15,
   "metadata": {},
   "outputs": [
    {
     "name": "stdout",
     "output_type": "stream",
     "text": [
      "{'Gamintojas': 'Jaguar', 'modelis': 'f-pace', 'metai': 2019, 'variklis': 2.0, 'kuras': 'benzinas', 'spalva': 'juoda'}\n"
     ]
    }
   ],
   "source": [
    "print(automobilis)"
   ]
  },
  {
   "cell_type": "code",
   "execution_count": 16,
   "metadata": {},
   "outputs": [],
   "source": [
    "automobilis['ratai'] = 'r19'\n",
    "automobilis['pavaru deze'] = 'automatine'"
   ]
  },
  {
   "cell_type": "code",
   "execution_count": 17,
   "metadata": {},
   "outputs": [
    {
     "name": "stdout",
     "output_type": "stream",
     "text": [
      "{'Gamintojas': 'Jaguar', 'modelis': 'f-pace', 'metai': 2019, 'variklis': 2.0, 'kuras': 'benzinas', 'spalva': 'juoda', 'ratai': 'r19', 'pavaru deze': 'automatine'}\n"
     ]
    }
   ],
   "source": [
    "print(automobilis)"
   ]
  },
  {
   "cell_type": "code",
   "execution_count": 18,
   "metadata": {},
   "outputs": [],
   "source": [
    "del automobilis['ratai']"
   ]
  },
  {
   "cell_type": "code",
   "execution_count": 19,
   "metadata": {},
   "outputs": [
    {
     "name": "stdout",
     "output_type": "stream",
     "text": [
      "{'Gamintojas': 'Jaguar', 'modelis': 'f-pace', 'metai': 2019, 'variklis': 2.0, 'kuras': 'benzinas', 'spalva': 'juoda', 'pavaru deze': 'automatine'}\n"
     ]
    }
   ],
   "source": [
    "print(automobilis)"
   ]
  },
  {
   "cell_type": "markdown",
   "metadata": {},
   "source": [
    "# Ciklai"
   ]
  },
  {
   "cell_type": "code",
   "execution_count": 20,
   "metadata": {},
   "outputs": [
    {
     "name": "stdout",
     "output_type": "stream",
     "text": [
      "Zen\n",
      "Programing\n",
      "of\n",
      "Python\n",
      "and\n"
     ]
    }
   ],
   "source": [
    "for zodis in zodziai:\n",
    "    print(zodis)"
   ]
  },
  {
   "cell_type": "code",
   "execution_count": 21,
   "metadata": {},
   "outputs": [
    {
     "name": "stdout",
     "output_type": "stream",
     "text": [
      "zodzio Zen ilgis: 3\n",
      "zodzio Programing ilgis: 10\n",
      "zodzio of ilgis: 2\n",
      "zodzio Python ilgis: 6\n",
      "zodzio and ilgis: 3\n"
     ]
    }
   ],
   "source": [
    "for zodis in zodziai:\n",
    "    print(f'zodzio {zodis} ilgis: {len(zodis)}')"
   ]
  },
  {
   "cell_type": "code",
   "execution_count": 22,
   "metadata": {},
   "outputs": [
    {
     "name": "stdout",
     "output_type": "stream",
     "text": [
      "prie 0 pridedam 1\n",
      "prie 1 pridedam 4\n",
      "prie 5 pridedam 7\n",
      "prie 12 pridedam 8\n",
      "prie 20 pridedam 12\n",
      "suma: 32\n"
     ]
    }
   ],
   "source": [
    "skaiciai = [1,4,7,8,12]\n",
    "suma = 0\n",
    "for sk in skaiciai:\n",
    "    print('prie',suma, 'pridedam', sk)\n",
    "    suma += sk\n",
    "\n",
    "print('suma:',suma)"
   ]
  },
  {
   "cell_type": "code",
   "execution_count": 23,
   "metadata": {},
   "outputs": [
    {
     "name": "stdout",
     "output_type": "stream",
     "text": [
      "prie 0 pridedam 1\n",
      "suma: 1\n",
      "prie 1 pridedam 4\n",
      "suma: 5\n",
      "prie 5 pridedam 7\n",
      "suma: 12\n",
      "prie 12 pridedam 8\n",
      "suma: 20\n",
      "prie 20 pridedam 12\n",
      "suma: 32\n"
     ]
    }
   ],
   "source": [
    "skaiciai = [1,4,7,8,12]\n",
    "suma = 0\n",
    "for sk in skaiciai:\n",
    "    print('prie',suma, 'pridedam', sk)\n",
    "    suma += sk\n",
    "    print('suma:',suma)"
   ]
  },
  {
   "cell_type": "code",
   "execution_count": 24,
   "metadata": {},
   "outputs": [
    {
     "name": "stdout",
     "output_type": "stream",
     "text": [
      "Gamintojas\n",
      "modelis\n",
      "metai\n",
      "variklis\n",
      "kuras\n",
      "spalva\n",
      "pavaru deze\n",
      "Jaguar\n",
      "f-pace\n",
      "2019\n",
      "2.0\n",
      "benzinas\n",
      "juoda\n",
      "automatine\n"
     ]
    }
   ],
   "source": [
    "\n",
    "for i in automobilis:\n",
    "    print(i)\n",
    "\n",
    "for i in automobilis: # ciklas eina per zodyna\n",
    "    print(automobilis[i])  # ciklas isveda values"
   ]
  },
  {
   "cell_type": "code",
   "execution_count": 25,
   "metadata": {},
   "outputs": [
    {
     "name": "stdout",
     "output_type": "stream",
     "text": [
      "Jaguar\n",
      "f-pace\n",
      "2019\n",
      "2.0\n",
      "benzinas\n",
      "juoda\n",
      "automatine\n"
     ]
    }
   ],
   "source": [
    "for i in automobilis.values(): # ciklas eina per reiksmes/values\n",
    "    print(i)"
   ]
  },
  {
   "cell_type": "code",
   "execution_count": 26,
   "metadata": {},
   "outputs": [
    {
     "name": "stdout",
     "output_type": "stream",
     "text": [
      "Kestutis 39\n",
      "linas 30\n",
      "Ingrida 30\n",
      "Mantas 32\n",
      "Darius 37\n"
     ]
    }
   ],
   "source": [
    "for vardas, metai in zodynas.items(): # ciklas eina per raktus ir reiksmes\n",
    "    print(vardas, metai) # ciklas isveda ir raktus ir reiksmes"
   ]
  },
  {
   "cell_type": "markdown",
   "metadata": {},
   "source": [
    "# range funkcija"
   ]
  },
  {
   "cell_type": "code",
   "execution_count": 27,
   "metadata": {},
   "outputs": [
    {
     "name": "stdout",
     "output_type": "stream",
     "text": [
      "0\n",
      "1\n",
      "2\n",
      "3\n",
      "4\n",
      "5\n",
      "6\n"
     ]
    }
   ],
   "source": [
    "for skaicius in range(7):\n",
    "    print(skaicius)"
   ]
  },
  {
   "cell_type": "code",
   "execution_count": 28,
   "metadata": {},
   "outputs": [
    {
     "name": "stdout",
     "output_type": "stream",
     "text": [
      "2010\n",
      "2011\n",
      "2012\n",
      "2013\n",
      "2014\n",
      "2015\n",
      "2016\n",
      "2017\n",
      "2018\n",
      "2019\n",
      "2020\n",
      "2021\n",
      "2022\n"
     ]
    }
   ],
   "source": [
    "for metai in range(2010, 2023):\n",
    "    print(metai)"
   ]
  },
  {
   "cell_type": "code",
   "execution_count": 29,
   "metadata": {},
   "outputs": [
    {
     "name": "stdout",
     "output_type": "stream",
     "text": [
      "2010\n",
      "2012\n",
      "2014\n",
      "2016\n",
      "2018\n",
      "2020\n",
      "2022\n"
     ]
    }
   ],
   "source": [
    "for metai in range(2010, 2023,2):\n",
    "    print(metai)"
   ]
  },
  {
   "cell_type": "code",
   "execution_count": 30,
   "metadata": {},
   "outputs": [
    {
     "name": "stdout",
     "output_type": "stream",
     "text": [
      "Zen\n",
      "of\n",
      "and\n"
     ]
    }
   ],
   "source": [
    "for x in range(0, len(zodziai),2):\n",
    "    print(zodziai[x])"
   ]
  },
  {
   "cell_type": "markdown",
   "metadata": {},
   "source": [
    "# while ciklai"
   ]
  },
  {
   "cell_type": "code",
   "execution_count": 31,
   "metadata": {},
   "outputs": [
    {
     "name": "stdout",
     "output_type": "stream",
     "text": [
      "6\n",
      "5\n",
      "4\n",
      "3\n",
      "2\n",
      "1\n",
      "0\n"
     ]
    }
   ],
   "source": [
    "# while ciklai reikalauja logines salygos\n",
    "# ciklas veikia, kol salyga yra true\n",
    "\n",
    "eile = 7\n",
    "while eile > 0:\n",
    "    eile -= 1 # cia tas pats, kas eile= eile -1\n",
    "    print(eile)"
   ]
  },
  {
   "cell_type": "code",
   "execution_count": 32,
   "metadata": {},
   "outputs": [],
   "source": [
    "# while True:\n",
    "#     print ('infinite loop')"
   ]
  },
  {
   "cell_type": "code",
   "execution_count": 33,
   "metadata": {},
   "outputs": [
    {
     "name": "stdout",
     "output_type": "stream",
     "text": [
      "f\n",
      "f\n",
      "f\n",
      "f\n",
      "f\n",
      "f\n",
      "f\n",
      "f\n",
      "\n",
      "\n",
      "\n",
      "\n",
      "\n",
      "\n",
      "\n",
      "\n",
      "\n",
      "\n",
      "\n",
      "\n",
      "\n",
      "\n",
      "\n",
      "\n",
      "\n",
      "\n",
      "\n",
      "\n",
      "\n",
      "\n",
      "\n",
      "\n",
      "\n",
      "\n",
      "\n",
      "\n",
      "\n",
      "\n",
      "\n",
      "\n",
      "\n",
      "\n",
      "\n",
      "\n",
      "\n",
      "\n",
      "\n",
      "\n",
      "\n",
      "\n",
      "\n",
      "\n",
      "\n",
      "\n",
      "\n",
      "\n",
      "\n",
      "\n",
      "\n",
      "\n",
      "\n",
      "\n",
      "\n",
      "\n",
      "\n",
      "q\n"
     ]
    }
   ],
   "source": [
    "# kaip panaudoti begalini cikla\n",
    "while True:\n",
    "    signalas = input('iveskite ka nors arba q, kad iseiti:')\n",
    "    print(signalas)\n",
    "    if signalas == 'q':\n",
    "        break"
   ]
  },
  {
   "cell_type": "code",
   "execution_count": 34,
   "metadata": {},
   "outputs": [
    {
     "name": "stdout",
     "output_type": "stream",
     "text": [
      "next >>>\n",
      "1 pasiziurim kokia liekana dalijant is 5:  1\n",
      "2 pasiziurim kokia liekana dalijant is 5:  2\n",
      "3 pasiziurim kokia liekana dalijant is 5:  3\n",
      "4 pasiziurim kokia liekana dalijant is 5:  4\n",
      "next >>>\n",
      "6 pasiziurim kokia liekana dalijant is 5:  1\n",
      "7 pasiziurim kokia liekana dalijant is 5:  2\n",
      "8 pasiziurim kokia liekana dalijant is 5:  3\n",
      "9 pasiziurim kokia liekana dalijant is 5:  4\n",
      "next >>>\n",
      "11 pasiziurim kokia liekana dalijant is 5:  1\n",
      "12 pasiziurim kokia liekana dalijant is 5:  2\n",
      "13 pasiziurim kokia liekana dalijant is 5:  3\n",
      "14 pasiziurim kokia liekana dalijant is 5:  4\n",
      "next >>>\n"
     ]
    }
   ],
   "source": [
    "for skaicius in range(16):\n",
    "    if skaicius % 5 == 0:\n",
    "        print('next >>>')\n",
    "        continue\n",
    "    print(skaicius,'pasiziurim kokia liekana dalijant is 5: ', skaicius % 5)"
   ]
  },
  {
   "cell_type": "markdown",
   "metadata": {},
   "source": [
    "# ciklo else salyga"
   ]
  },
  {
   "cell_type": "code",
   "execution_count": null,
   "metadata": {},
   "outputs": [],
   "source": []
  },
  {
   "cell_type": "code",
   "execution_count": 35,
   "metadata": {},
   "outputs": [
    {
     "ename": "ValueError",
     "evalue": "invalid literal for int() with base 10: ''",
     "output_type": "error",
     "traceback": [
      "\u001b[1;31m---------------------------------------------------------------------------\u001b[0m",
      "\u001b[1;31mValueError\u001b[0m                                Traceback (most recent call last)",
      "Cell \u001b[1;32mIn [35], line 3\u001b[0m\n\u001b[0;32m      1\u001b[0m \u001b[38;5;66;03m# sitas bus atsiskaitymo teste\u001b[39;00m\n\u001b[1;32m----> 3\u001b[0m ivestas \u001b[38;5;241m=\u001b[39m \u001b[38;5;28;43mint\u001b[39;49m\u001b[43m(\u001b[49m\u001b[38;5;28;43minput\u001b[39;49m\u001b[43m(\u001b[49m\u001b[38;5;124;43m'\u001b[39;49m\u001b[38;5;124;43miveskite skaiciu\u001b[39;49m\u001b[38;5;124;43m'\u001b[39;49m\u001b[43m)\u001b[49m\u001b[43m)\u001b[49m\n\u001b[0;32m      5\u001b[0m \u001b[38;5;28;01mfor\u001b[39;00m skaicius \u001b[38;5;129;01min\u001b[39;00m \u001b[38;5;28mrange\u001b[39m(ivestas\u001b[38;5;241m+\u001b[39m\u001b[38;5;241m1\u001b[39m):\n\u001b[0;32m      6\u001b[0m     \u001b[38;5;28mprint\u001b[39m(skaicius)\n",
      "\u001b[1;31mValueError\u001b[0m: invalid literal for int() with base 10: ''"
     ]
    }
   ],
   "source": [
    "# sitas bus atsiskaitymo teste\n",
    "\n",
    "ivestas = int(input('iveskite skaiciu'))\n",
    "\n",
    "for skaicius in range(ivestas+1):\n",
    "    print(skaicius)\n",
    "    if skaicius == 5:\n",
    "        print('nutraukiam cikla')\n",
    "        break\n",
    "else:\n",
    "    print('ciklas nebuvo nutrauktas')\n"
   ]
  },
  {
   "cell_type": "code",
   "execution_count": null,
   "metadata": {},
   "outputs": [
    {
     "name": "stdout",
     "output_type": "stream",
     "text": [
      "77, 13, 69, 42, 21, 23, 777, 314, radau\n",
      "the end\n"
     ]
    }
   ],
   "source": [
    "\n",
    "ieskomasis = int(input('iveskite skaiciu: '))\n",
    "for skaicius in sarasas:\n",
    "    print(skaicius, end=', ') \n",
    "    if skaicius == ieskomasis:\n",
    "        print('radau')\n",
    "        break\n",
    "else:\n",
    "    print('\\n',ieskomasis, 'skaicius nerastas')\n",
    "\n",
    "print('the end')\n"
   ]
  },
  {
   "cell_type": "markdown",
   "metadata": {},
   "source": [
    "# enumerate"
   ]
  },
  {
   "cell_type": "code",
   "execution_count": null,
   "metadata": {},
   "outputs": [
    {
     "name": "stdout",
     "output_type": "stream",
     "text": [
      "[1, 4, 7, 8, 12]\n"
     ]
    }
   ],
   "source": [
    "print(skaiciai)"
   ]
  },
  {
   "cell_type": "code",
   "execution_count": null,
   "metadata": {},
   "outputs": [
    {
     "name": "stdout",
     "output_type": "stream",
     "text": [
      "0 1\n",
      "1 4\n",
      "2 7\n",
      "3 8\n",
      "4 12\n"
     ]
    }
   ],
   "source": [
    "for indeksas, elementas in enumerate(skaiciai):\n",
    "    print(indeksas, elementas)"
   ]
  },
  {
   "cell_type": "markdown",
   "metadata": {},
   "source": [
    "# Uzduotys"
   ]
  },
  {
   "cell_type": "code",
   "execution_count": null,
   "metadata": {},
   "outputs": [],
   "source": [
    "# 1 uzduotis\n",
    "# Sukurti norimą sąrašą ir žodyną ir juose:\n",
    "\n",
    "#     Atspausdinti vieną norimą įrašą\n",
    "#     Pridėti įrašą\n",
    "#     Ištrinti įrašą\n",
    "#     pakeisti įrašą\n",
    "\n",
    "# Išbandyti kitas sąrašų ir žodynų funkcijas: clear(), index(), insert(), remove..."
   ]
  },
  {
   "cell_type": "code",
   "execution_count": null,
   "metadata": {},
   "outputs": [],
   "source": [
    "sr = ['Aš', 'rytais', 'mėgstu', 'arbata', 'kava','sausainius','pyragus']"
   ]
  },
  {
   "cell_type": "code",
   "execution_count": null,
   "metadata": {},
   "outputs": [
    {
     "name": "stdout",
     "output_type": "stream",
     "text": [
      "arbata\n"
     ]
    }
   ],
   "source": [
    "print(sr[3])"
   ]
  },
  {
   "cell_type": "code",
   "execution_count": null,
   "metadata": {},
   "outputs": [],
   "source": [
    "sr.append('vaisius')"
   ]
  },
  {
   "cell_type": "code",
   "execution_count": null,
   "metadata": {},
   "outputs": [
    {
     "name": "stdout",
     "output_type": "stream",
     "text": [
      "['Aš', 'rytais', 'mėgstu', 'arbata', 'kava', 'sausainius', 'pyragus', 'vaisius']\n"
     ]
    }
   ],
   "source": [
    "print(sr)"
   ]
  },
  {
   "cell_type": "code",
   "execution_count": null,
   "metadata": {},
   "outputs": [
    {
     "data": {
      "text/plain": [
       "'vaisius'"
      ]
     },
     "execution_count": 8,
     "metadata": {},
     "output_type": "execute_result"
    }
   ],
   "source": [
    "sr.pop()"
   ]
  },
  {
   "cell_type": "code",
   "execution_count": null,
   "metadata": {},
   "outputs": [
    {
     "name": "stdout",
     "output_type": "stream",
     "text": [
      "['Aš', 'rytais ir vakarais', 'mėgstu', 'arbata', 'kava', 'sausainius', 'pyragus']\n"
     ]
    }
   ],
   "source": [
    "sr[1] = 'rytais ir vakarais'\n",
    "print(sr)"
   ]
  },
  {
   "cell_type": "code",
   "execution_count": null,
   "metadata": {},
   "outputs": [],
   "source": [
    "sr.insert(1, 'ne tik')"
   ]
  },
  {
   "cell_type": "code",
   "execution_count": null,
   "metadata": {},
   "outputs": [
    {
     "name": "stdout",
     "output_type": "stream",
     "text": [
      "['Aš', 'ne tik', 'rytais ir vakarais', 'mėgstu', 'arbata', 'kava', 'sausainius', 'pyragus']\n"
     ]
    }
   ],
   "source": [
    "print(sr)"
   ]
  },
  {
   "cell_type": "code",
   "execution_count": null,
   "metadata": {},
   "outputs": [],
   "source": [
    "sr.clear()"
   ]
  },
  {
   "cell_type": "code",
   "execution_count": null,
   "metadata": {},
   "outputs": [
    {
     "name": "stdout",
     "output_type": "stream",
     "text": [
      "[]\n"
     ]
    }
   ],
   "source": [
    "print(sr)"
   ]
  },
  {
   "cell_type": "code",
   "execution_count": null,
   "metadata": {},
   "outputs": [],
   "source": [
    "sr = ['Aš', 'ne tik', 'rytais ir vakarais', 'mėgstu', 'arbata', 'kava', 'sausainius', 'pyragus']"
   ]
  },
  {
   "cell_type": "code",
   "execution_count": null,
   "metadata": {},
   "outputs": [],
   "source": [
    "sr.remove('ne tik')"
   ]
  },
  {
   "cell_type": "code",
   "execution_count": null,
   "metadata": {},
   "outputs": [
    {
     "name": "stdout",
     "output_type": "stream",
     "text": [
      "['Aš', 'rytais ir vakarais', 'mėgstu', 'arbata', 'kava', 'sausainius', 'pyragus']\n"
     ]
    }
   ],
   "source": [
    "print(sr)"
   ]
  },
  {
   "cell_type": "code",
   "execution_count": null,
   "metadata": {},
   "outputs": [
    {
     "data": {
      "text/plain": [
       "4"
      ]
     },
     "execution_count": 28,
     "metadata": {},
     "output_type": "execute_result"
    }
   ],
   "source": [
    "sr.index('kava')"
   ]
  },
  {
   "cell_type": "code",
   "execution_count": null,
   "metadata": {},
   "outputs": [],
   "source": [
    "# 2 užduotis\n",
    "\n",
    "# Parašyti programą, kuri:\n",
    "\n",
    "#     Leistų vartotojui įvesti skaičių.\n",
    "#     Jei įvestas skaičius yra teigiamas, paprašyti įvesti dar vieną skaičių\n",
    "#     Jei įvestas skaičius neigiamas, nutraukti programą ir atspausdinti visų įvestų teigiamų skaičių sumą\n",
    "\n",
    "# Patarimas: Naudoti ciklą while, sąlygą if, break"
   ]
  },
  {
   "cell_type": "code",
   "execution_count": null,
   "metadata": {},
   "outputs": [
    {
     "name": "stdout",
     "output_type": "stream",
     "text": [
      "[4]\n",
      "[4, 3]\n",
      "[4, 3, 2]\n",
      "9\n"
     ]
    }
   ],
   "source": [
    "sarasas = []\n",
    "\n",
    "while True:\n",
    "    sk1 = int(input('iveskite dar viena skaiciu:'))\n",
    "    if sk1 > 0:\n",
    "        sarasas.append(sk1)\n",
    "        print(sarasas)\n",
    "    elif sk1 < 0:\n",
    "        break\n",
    "print(sum(sarasas))"
   ]
  },
  {
   "cell_type": "code",
   "execution_count": null,
   "metadata": {},
   "outputs": [
    {
     "name": "stdout",
     "output_type": "stream",
     "text": [
      "5\n"
     ]
    }
   ],
   "source": [
    "sarasas = []\n",
    "\n",
    "while True:\n",
    "    sk1 = int(input('iveskite dar viena skaiciu:'))\n",
    "    if sk1 < 0:\n",
    "        break\n",
    "    sarasas.append(sk1)\n",
    "print(sum(sarasas))"
   ]
  },
  {
   "cell_type": "code",
   "execution_count": null,
   "metadata": {},
   "outputs": [],
   "source": [
    "# 3 užduotis\n",
    "\n",
    "# Sukurti programą, kuri:\n",
    "\n",
    "#     Leistų vartotojui po vieną įvesti 5 žodžius\n",
    "#     Pridėtų įvestus žodžius į sąrašą\n",
    "#     Atspausdintų kiekvieną žodį, jo ilgį ir eilės numerį sąraše (nuo 1)\n",
    "\n",
    "# Sudėtingiau: kad programa leistų įvesti norimą žodžių kiekį\n",
    "\n",
    "# Patarimas: Naudoti sąrašą (list), ciklą for, funkcijas len ir index"
   ]
  },
  {
   "cell_type": "code",
   "execution_count": null,
   "metadata": {},
   "outputs": [
    {
     "name": "stdout",
     "output_type": "stream",
     "text": [
      "['as', 'ir', 'tu', 'mes', 'kartu']\n",
      "as \n",
      " zodzio as ilgis 2 \n",
      " zodzio as eiles numeris 1\n",
      "ir \n",
      " zodzio ir ilgis 2 \n",
      " zodzio ir eiles numeris 2\n",
      "tu \n",
      " zodzio tu ilgis 2 \n",
      " zodzio tu eiles numeris 3\n",
      "mes \n",
      " zodzio mes ilgis 3 \n",
      " zodzio mes eiles numeris 4\n",
      "kartu \n",
      " zodzio kartu ilgis 5 \n",
      " zodzio kartu eiles numeris 5\n"
     ]
    }
   ],
   "source": [
    "zodziusarasas = []\n",
    "\n",
    "for i in range(0,5):\n",
    "    zodziusarasas.append(input('iveskite zodi'))\n",
    "\n",
    "print(zodziusarasas)\n",
    "\n",
    "for i in zodziusarasas:\n",
    "    print(i, '\\n','zodzio', i, 'ilgis', len(i),'\\n', 'zodzio', i, 'eiles numeris', zodziusarasas.index(i)+1)\n"
   ]
  },
  {
   "cell_type": "code",
   "execution_count": null,
   "metadata": {},
   "outputs": [
    {
     "name": "stdout",
     "output_type": "stream",
     "text": [
      "['katinas', 'ir', 'suo']\n",
      "katinas \n",
      " zodzio katinas ilgis 7 \n",
      " zodzio katinas eiles numeris 1\n",
      "ir \n",
      " zodzio ir ilgis 2 \n",
      " zodzio ir eiles numeris 2\n",
      "suo \n",
      " zodzio suo ilgis 3 \n",
      " zodzio suo eiles numeris 3\n"
     ]
    }
   ],
   "source": [
    "zodziusarasas = []\n",
    "kiekis = int(input('iveskite zodziu kieki:'))\n",
    "\n",
    "for i in range(0,kiekis):\n",
    "    zodziusarasas.append(input('iveskite zodi'))\n",
    "\n",
    "print(zodziusarasas)\n",
    "\n",
    "for i in zodziusarasas:\n",
    "    print(i, '\\n','zodzio', i, 'ilgis', len(i),'\\n', 'zodzio', i, 'eiles numeris', zodziusarasas.index(i)+1)"
   ]
  },
  {
   "cell_type": "code",
   "execution_count": null,
   "metadata": {},
   "outputs": [],
   "source": [
    "# 4 užduotis\n",
    "\n",
    "# Kauliukų žaidimas\n",
    "\n",
    "# Sukurti programą, kuri:\n",
    "\n",
    "#     Sugeneruotų tris atsitiktinius skaičius nuo 1 iki 6\n",
    "#     Jei vienas iš šių skaičių yra 5, atspausdinti „Pralaimėjai...“\n",
    "#     Kitu atveju atspausdinti „Laimėjai!“\n",
    "\n",
    "# Patarimas: Naudoti while ciklą, funkciją random.randint (import random), else, break"
   ]
  },
  {
   "cell_type": "code",
   "execution_count": 36,
   "metadata": {},
   "outputs": [],
   "source": [
    "import random"
   ]
  },
  {
   "cell_type": "code",
   "execution_count": 41,
   "metadata": {},
   "outputs": [
    {
     "name": "stdout",
     "output_type": "stream",
     "text": [
      "[1, 3, 7]\n",
      "Laimejai\n"
     ]
    }
   ],
   "source": [
    "seka = []\n",
    "while True:\n",
    "    atsitiktinis = random.randint(1,7)\n",
    "    seka.append(atsitiktinis)\n",
    "    if len(seka) == 3:\n",
    "        break\n",
    "print(seka)\n",
    "\n",
    "for x in seka:\n",
    "    if x == 5:\n",
    "        print('Pralaimejai')\n",
    "        break\n",
    "else:\n",
    "    print('Laimejai')\n",
    "    \n",
    "    \n",
    "   \n",
    "        "
   ]
  },
  {
   "cell_type": "code",
   "execution_count": null,
   "metadata": {},
   "outputs": [],
   "source": [
    "# 5 užduotis\n",
    "\n",
    "# Sukurti programą, kuri:\n",
    "\n",
    "#     Leistų vartotojui įvesti metus\n",
    "#     Atspausdintų „Keliamieji metai“, jei taip yra\n",
    "#     Atspausdintų „Nekeliamieji metai“, jei taip yra\n"
   ]
  },
  {
   "cell_type": "code",
   "execution_count": 43,
   "metadata": {},
   "outputs": [
    {
     "name": "stdout",
     "output_type": "stream",
     "text": [
      "2100 metai yra nekeliamieji\n"
     ]
    }
   ],
   "source": [
    "metai = int(input('iveskite metus: '))\n",
    "\n",
    "if metai % 4 == 0 and (metai % 100 != 0 or metai % 400 == 0):\n",
    "    print(metai, 'metai yra keliemieji')\n",
    "else:\n",
    "    print(metai, 'metai yra nekeliamieji')"
   ]
  },
  {
   "cell_type": "code",
   "execution_count": null,
   "metadata": {},
   "outputs": [],
   "source": [
    "# 6 užduotis\n",
    "\n",
    "# Perdaryti 5 užduoti taip, kad programa atspausdintų visus keliamuosius metus, nuo 1900 iki 2100 metų.\n",
    "\n",
    "# Keliamieji metai yra kas 4 metus, išskyrus paskutinius amžiaus metus, kurie keliamieji yra tik kas 400 metų\n",
    "\n",
    "# Patarimas: Google! :)"
   ]
  },
  {
   "cell_type": "code",
   "execution_count": 44,
   "metadata": {},
   "outputs": [
    {
     "name": "stdout",
     "output_type": "stream",
     "text": [
      "[1904, 1908, 1912, 1916, 1920, 1924, 1928, 1932, 1936, 1940, 1944, 1948, 1952, 1956, 1960, 1964, 1968, 1972, 1976, 1980, 1984, 1988, 1992, 1996, 2000, 2004, 2008, 2012, 2016, 2020, 2024, 2028, 2032, 2036, 2040, 2044, 2048, 2052, 2056, 2060, 2064, 2068, 2072, 2076, 2080, 2084, 2088, 2092, 2096]\n"
     ]
    }
   ],
   "source": [
    "metai = []\n",
    "for x in range(1900,2100):\n",
    "    if x % 4 == 0 and (x % 100 != 0 or x % 400 == 0):\n",
    "        metai.append(x)\n",
    "\n",
    "print(metai)"
   ]
  }
 ],
 "metadata": {
  "kernelspec": {
   "display_name": "Python 3.10.7 ('venv': venv)",
   "language": "python",
   "name": "python3"
  },
  "language_info": {
   "codemirror_mode": {
    "name": "ipython",
    "version": 3
   },
   "file_extension": ".py",
   "mimetype": "text/x-python",
   "name": "python",
   "nbconvert_exporter": "python",
   "pygments_lexer": "ipython3",
   "version": "3.10.7"
  },
  "orig_nbformat": 4,
  "vscode": {
   "interpreter": {
    "hash": "6de887b4c384460d342b5baf6bfe7e2ff1890b24938af7c10c565ff6b284cde1"
   }
  }
 },
 "nbformat": 4,
 "nbformat_minor": 2
}
