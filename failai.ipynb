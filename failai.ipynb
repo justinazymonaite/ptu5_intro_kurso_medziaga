{
 "cells": [
  {
   "cell_type": "code",
   "execution_count": 1,
   "metadata": {},
   "outputs": [],
   "source": [
    "import os"
   ]
  },
  {
   "cell_type": "code",
   "execution_count": 2,
   "metadata": {},
   "outputs": [
    {
     "name": "stdout",
     "output_type": "stream",
     "text": [
      "['DirEntry', 'F_OK', 'GenericAlias', 'Mapping', 'MutableMapping', 'O_APPEND', 'O_BINARY', 'O_CREAT', 'O_EXCL', 'O_NOINHERIT', 'O_RANDOM', 'O_RDONLY', 'O_RDWR', 'O_SEQUENTIAL', 'O_SHORT_LIVED', 'O_TEMPORARY', 'O_TEXT', 'O_TRUNC', 'O_WRONLY', 'P_DETACH', 'P_NOWAIT', 'P_NOWAITO', 'P_OVERLAY', 'P_WAIT', 'PathLike', 'R_OK', 'SEEK_CUR', 'SEEK_END', 'SEEK_SET', 'TMP_MAX', 'W_OK', 'X_OK', '_AddedDllDirectory', '_Environ', '__all__', '__builtins__', '__cached__', '__doc__', '__file__', '__loader__', '__name__', '__package__', '__spec__', '_check_methods', '_execvpe', '_exists', '_exit', '_fspath', '_get_exports_list', '_walk', '_wrap_close', 'abc', 'abort', 'access', 'add_dll_directory', 'altsep', 'chdir', 'chmod', 'close', 'closerange', 'cpu_count', 'curdir', 'defpath', 'device_encoding', 'devnull', 'dup', 'dup2', 'environ', 'error', 'execl', 'execle', 'execlp', 'execlpe', 'execv', 'execve', 'execvp', 'execvpe', 'extsep', 'fdopen', 'fsdecode', 'fsencode', 'fspath', 'fstat', 'fsync', 'ftruncate', 'get_exec_path', 'get_handle_inheritable', 'get_inheritable', 'get_terminal_size', 'getcwd', 'getcwdb', 'getenv', 'getlogin', 'getpid', 'getppid', 'isatty', 'kill', 'linesep', 'link', 'listdir', 'lseek', 'lstat', 'makedirs', 'mkdir', 'name', 'open', 'pardir', 'path', 'pathsep', 'pipe', 'popen', 'putenv', 'read', 'readlink', 'remove', 'removedirs', 'rename', 'renames', 'replace', 'rmdir', 'scandir', 'sep', 'set_handle_inheritable', 'set_inheritable', 'spawnl', 'spawnle', 'spawnv', 'spawnve', 'st', 'startfile', 'stat', 'stat_result', 'statvfs_result', 'strerror', 'supports_bytes_environ', 'supports_dir_fd', 'supports_effective_ids', 'supports_fd', 'supports_follow_symlinks', 'symlink', 'sys', 'system', 'terminal_size', 'times', 'times_result', 'truncate', 'umask', 'uname_result', 'unlink', 'unsetenv', 'urandom', 'utime', 'waitpid', 'waitstatus_to_exitcode', 'walk', 'write']\n"
     ]
    }
   ],
   "source": [
    "print(dir(os)) # su dir galima pasiziureti, ka importuotas modulis turi"
   ]
  },
  {
   "cell_type": "code",
   "execution_count": 3,
   "metadata": {},
   "outputs": [],
   "source": [
    "import datetime"
   ]
  },
  {
   "cell_type": "code",
   "execution_count": 4,
   "metadata": {},
   "outputs": [
    {
     "name": "stdout",
     "output_type": "stream",
     "text": [
      "['MAXYEAR', 'MINYEAR', '__all__', '__builtins__', '__cached__', '__doc__', '__file__', '__loader__', '__name__', '__package__', '__spec__', 'date', 'datetime', 'datetime_CAPI', 'sys', 'time', 'timedelta', 'timezone', 'tzinfo']\n"
     ]
    }
   ],
   "source": [
    "print(dir(datetime))\n",
    "\n",
    "# alternatyvus budas, kaip pasiziureti, ka modulis turi, tai paspausti su CTRL ant to modulio pavadinimo ir tada matysime to modulio koda"
   ]
  },
  {
   "cell_type": "code",
   "execution_count": 5,
   "metadata": {},
   "outputs": [
    {
     "name": "stdout",
     "output_type": "stream",
     "text": [
      "c:\\Users\\jzymo\\Documents\\python_codeacademy\\intro\n"
     ]
    }
   ],
   "source": [
    "print(os.getcwd()) #get current work directory "
   ]
  },
  {
   "cell_type": "code",
   "execution_count": 10,
   "metadata": {},
   "outputs": [],
   "source": [
    "# kaip pakeisti dabartini darbini kataloga\n",
    "os.chdir(\"c:\\\\Users\\\\jzymo\\\\Documents\\\\Python\")"
   ]
  },
  {
   "cell_type": "code",
   "execution_count": 11,
   "metadata": {},
   "outputs": [],
   "source": [
    "os.chdir('c:\\\\Users\\\\jzymo\\\\Documents\\\\python_codeacademy\\\\intro')"
   ]
  },
  {
   "cell_type": "code",
   "execution_count": 12,
   "metadata": {},
   "outputs": [
    {
     "name": "stdout",
     "output_type": "stream",
     "text": [
      "['boolean_data_laikas_isimtys.ipynb', 'bus_teste.ipynb', 'failai.ipynb', 'funkcijos.ipynb', 'isimtys.ipynb', 'isimtys.py', 'pirmadienis.py', 'tikrinimas.ipynb', 'treciadienis.ipynb', 'venv']\n"
     ]
    }
   ],
   "source": [
    "print(os.listdir()) # isspausdina kataloge esanciu failu sarasa"
   ]
  },
  {
   "cell_type": "code",
   "execution_count": 13,
   "metadata": {},
   "outputs": [],
   "source": [
    "# kaip sukurti nauja kataloga\n",
    "os.mkdir('Naujas')"
   ]
  },
  {
   "cell_type": "code",
   "execution_count": 16,
   "metadata": {},
   "outputs": [
    {
     "name": "stdout",
     "output_type": "stream",
     "text": [
      "os.stat_result(st_mode=16895, st_ino=1970324837069080, st_dev=40825539, st_nlink=1, st_uid=0, st_gid=0, st_size=0, st_atime=1662968291, st_mtime=1662968291, st_ctime=1662968291)\n",
      "os.stat_result(st_mode=33206, st_ino=3096224744041311, st_dev=40825539, st_nlink=1, st_uid=0, st_gid=0, st_size=21336, st_atime=1662966657, st_mtime=1662966657, st_ctime=1662612731)\n"
     ]
    }
   ],
   "source": [
    "print(os.stat('Naujas')) # isspausdina informacija apie faila\n",
    "print(os.stat('funkcijos.ipynb'))"
   ]
  },
  {
   "cell_type": "code",
   "execution_count": 7,
   "metadata": {},
   "outputs": [
    {
     "name": "stdout",
     "output_type": "stream",
     "text": [
      "1662612731.8019729\n",
      "1662966657.7792327\n"
     ]
    },
    {
     "data": {
      "text/plain": [
       "datetime.datetime(2022, 9, 8, 7, 52, 11, 801973)"
      ]
     },
     "execution_count": 7,
     "metadata": {},
     "output_type": "execute_result"
    }
   ],
   "source": [
    "print(os.stat('funkcijos.ipynb').st_ctime) #st_ctime failo sukurimo laikas\n",
    "print(os.stat('funkcijos.ipynb').st_mtime) #st_ctime failo modifikavimo laikas\n",
    "import datetime\n",
    "from datetime import datetime\n",
    "datetime.fromtimestamp(os.stat('funkcijos.ipynb').st_ctime)"
   ]
  },
  {
   "cell_type": "code",
   "execution_count": 20,
   "metadata": {},
   "outputs": [
    {
     "name": "stdout",
     "output_type": "stream",
     "text": [
      "21336\n"
     ]
    }
   ],
   "source": [
    "# kaip suzinoti failo dydi baitais\n",
    "print(os.stat('funkcijos.ipynb').st_size)"
   ]
  },
  {
   "cell_type": "markdown",
   "metadata": {},
   "source": [
    "# tekstiniai failai"
   ]
  },
  {
   "cell_type": "code",
   "execution_count": 122,
   "metadata": {},
   "outputs": [],
   "source": [
    "with open(\"Naujas/labas.txt\",\"w\") as tekstinis:\n",
    "    tekstinis.write('Sveikas, failo skaitytojau!\\n')\n",
    "    tekstinis.write('dar ka nors parasysiu\\n')\n",
    "    tekstinis.write('ir dar ka nors...\\n')"
   ]
  },
  {
   "cell_type": "code",
   "execution_count": 32,
   "metadata": {},
   "outputs": [],
   "source": [
    "# alternatyvus failo atidarymas/uzdarymas\n",
    "alternatyva = open(\"Naujas/labas.txt\",\"w\") \n",
    "alternatyva.write('saltas oras!\\n')\n",
    "alternatyva.write('jau nebe vasara!\\n')\n",
    "alternatyva.close()"
   ]
  },
  {
   "cell_type": "code",
   "execution_count": 33,
   "metadata": {},
   "outputs": [
    {
     "name": "stdout",
     "output_type": "stream",
     "text": [
      "saltas oras!\n",
      "jau nebe vasara!\n",
      "\n"
     ]
    }
   ],
   "source": [
    "# failo skaitymas\n",
    "with open(\"Naujas/labas.txt\",\"r\") as skaitomas:\n",
    "    oras = skaitomas.read() # nuskaityti turini galima tik viena karta su .read, todel jei su turiniu norim atlikti veiksmus, tai turini reikia prisiskirti kintamajam\n",
    "    print(oras) "
   ]
  },
  {
   "cell_type": "code",
   "execution_count": 39,
   "metadata": {},
   "outputs": [
    {
     "name": "stdout",
     "output_type": "stream",
     "text": [
      "saltas oras!\n",
      "jau nebe vasara!\n",
      "dar viena eilute\n",
      "dar viena eilute\n",
      "\n"
     ]
    }
   ],
   "source": [
    "# nuskaityti ir israsyti faila vienu metu su r+\n",
    "with open(\"Naujas/labas.txt\",\"r+\") as skaitoraso:\n",
    "    senas = skaitoraso.read() \n",
    "    print(senas)\n",
    "    skaitoraso.write('dar viena arba kita eilute\\n') # kas karta ivykdzius si koda prideda vis po extra eilute\n"
   ]
  },
  {
   "cell_type": "code",
   "execution_count": 40,
   "metadata": {},
   "outputs": [
    {
     "name": "stdout",
     "output_type": "stream",
     "text": [
      "saltas oras!\n",
      "jau nebe vasara!\n",
      "dar viena eilute\n",
      "dar viena eilute\n",
      "dar viena arba kita eilute\n",
      "\n"
     ]
    }
   ],
   "source": [
    "with open(\"Naujas/labas.txt\",\"r\") as skaito:\n",
    "    print(skaito.read())"
   ]
  },
  {
   "cell_type": "code",
   "execution_count": 45,
   "metadata": {},
   "outputs": [
    {
     "name": "stdout",
     "output_type": "stream",
     "text": [
      "0 saltas oras!\n",
      "\n",
      "1 jau nebe vasara!\n",
      "\n",
      "2 dar viena eilute\n",
      "\n"
     ]
    }
   ],
   "source": [
    "with open(\"Naujas/labas.txt\",\"r\") as skaitomas:\n",
    "    eilutes = skaitomas.readlines()\n",
    "eilutes.pop()\n",
    "eilutes.pop()\n",
    "for indeksas,eilute in enumerate(eilutes):\n",
    "    print(indeksas, eilute)\n",
    "with open(\"Naujas/labas.txt\",\"w\") as rasomas:\n",
    "    rasomas.writelines(eilutes)"
   ]
  },
  {
   "cell_type": "code",
   "execution_count": 51,
   "metadata": {},
   "outputs": [],
   "source": [
    "# prideti i faila teksta su 'a'\n",
    "with open(\"Naujas/labas.txt\",\"a\") as pridedamas:\n",
    "    pridedamas.write('taip gerokai patogiau prideti naujas eilutes i faila\\n')"
   ]
  },
  {
   "cell_type": "code",
   "execution_count": 52,
   "metadata": {},
   "outputs": [
    {
     "name": "stdout",
     "output_type": "stream",
     "text": [
      "saltas oras!\n",
      "jau nebe vasara!\n",
      "dar viena eilute\n",
      "taip gerokai patogiau prideti naujas eilutes i failataip gerokai patogiau prideti naujas eilutes i failataip gerokai patogiau prideti naujas eilutes i failataip gerokai patogiau prideti naujas eilutes i faila\n",
      "taip gerokai patogiau prideti naujas eilutes i faila\n",
      "\n"
     ]
    }
   ],
   "source": [
    "with open(\"Naujas/labas.txt\",\"r\") as skaito:\n",
    "    print(skaito.read())"
   ]
  },
  {
   "cell_type": "code",
   "execution_count": 63,
   "metadata": {},
   "outputs": [
    {
     "name": "stdout",
     "output_type": "stream",
     "text": [
      "['saltas oras!\\n', 'jau nebe vasara!\\n', 'dar viena eilute\\n']\n"
     ]
    }
   ],
   "source": [
    "# istrinam eilutes, taisom bardaka\n",
    "with open(\"Naujas/labas.txt\",\"r\") as taisomas:\n",
    "    eilutes = taisomas.readlines()\n",
    "    eilutes.pop()\n",
    "print(eilutes)\n",
    "with open(\"Naujas/labas.txt\",\"w\") as pataisytas:\n",
    "    pataisytas.writelines(eilutes)\n"
   ]
  },
  {
   "cell_type": "code",
   "execution_count": 64,
   "metadata": {},
   "outputs": [
    {
     "name": "stdout",
     "output_type": "stream",
     "text": [
      "['saltas oras!\\n', 'jau nebe vasara!\\n', 'dar viena eilute\\n']\n"
     ]
    }
   ],
   "source": [
    "with open(\"Naujas/labas.txt\",\"r\") as skaito:\n",
    "    print(skaito.readlines())"
   ]
  },
  {
   "cell_type": "code",
   "execution_count": 65,
   "metadata": {},
   "outputs": [
    {
     "name": "stdout",
     "output_type": "stream",
     "text": [
      "['saltas labai oras!\\n', 'jau nebe vasara!\\n', 'dar viena eilute\\n']\n"
     ]
    }
   ],
   "source": [
    "# taisom zodi eiluteje\n",
    "with open(\"Naujas/labas.txt\",\"r\") as taisomas:\n",
    "    eilutes = taisomas.readlines()\n",
    "eilutes[0] = eilutes[0].replace('oras','labai oras')\n",
    "print(eilutes)\n",
    "with open(\"Naujas/labas.txt\",\"w\") as pataisytas:\n",
    "    pataisytas.writelines(eilutes)"
   ]
  },
  {
   "cell_type": "code",
   "execution_count": 66,
   "metadata": {},
   "outputs": [
    {
     "name": "stdout",
     "output_type": "stream",
     "text": [
      "saltas labai oras!\n",
      "jau nebe vasara!\n",
      "dar viena eilute\n"
     ]
    }
   ],
   "source": [
    "with open(\"Naujas/labas.txt\",\"r\") as taisomas:\n",
    "    eilutes = taisomas.readlines()\n",
    "for eilute in eilutes:\n",
    "    print(eilute, end='')"
   ]
  },
  {
   "cell_type": "markdown",
   "metadata": {},
   "source": [
    "# seek"
   ]
  },
  {
   "cell_type": "code",
   "execution_count": 89,
   "metadata": {},
   "outputs": [
    {
     "name": "stdout",
     "output_type": "stream",
     "text": [
      "saltas labai oras!\n",
      "jau nebe vasara!\n",
      "dar viena eilute\n",
      "\n",
      "36\n",
      "\n",
      "dar viena eilute\n",
      "\n"
     ]
    }
   ],
   "source": [
    "with open(\"Naujas/labas.txt\",\"r\") as nuoantros:\n",
    "    visas = nuoantros.read()\n",
    "    print(visas)\n",
    "    darvieta = visas.find('dar')\n",
    "    print(darvieta)\n",
    "    nuoantros.seek(darvieta)\n",
    "    nuodar = nuoantros.read()\n",
    "    print(nuodar)"
   ]
  },
  {
   "cell_type": "markdown",
   "metadata": {},
   "source": [
    "# failai su lietuviskom raidem"
   ]
  },
  {
   "cell_type": "code",
   "execution_count": 106,
   "metadata": {},
   "outputs": [],
   "source": [
    "# jei i faila norim irasyti ivairius simbolius reiketu naudoti encoding='utf-8'\n",
    "with open(\"Naujas/lietuviskai.txt\",\"w\", encoding='utf-8') as lietuviskai:\n",
    "    lietuviskai.write('Bandom įrašyti lietuvišką tekstą')"
   ]
  },
  {
   "cell_type": "code",
   "execution_count": null,
   "metadata": {},
   "outputs": [],
   "source": [
    "# skaityti faila po viena eilute galima ir tokiu budu su salyga, jei jame nera tusciu eiluciu teksto viduryje\n",
    "with open('Naujas/labas.txt', 'r') as failas:\n",
    "    while True:\n",
    "        eilutes = failas.readline()\n",
    "        print(eilute, end='')\n",
    "        if len(eilute) == 0:\n",
    "            break"
   ]
  },
  {
   "cell_type": "code",
   "execution_count": 117,
   "metadata": {},
   "outputs": [
    {
     "name": "stdout",
     "output_type": "stream",
     "text": [
      "saltas labai oras!\n",
      "jau nebe vasara!\n",
      "dar viena eilute\n"
     ]
    }
   ],
   "source": [
    "with open('Naujas/labas.txt', 'r') as failas:\n",
    "    for eilute in failas:\n",
    "        print(eilute, end='')"
   ]
  },
  {
   "cell_type": "code",
   "execution_count": 123,
   "metadata": {},
   "outputs": [
    {
     "name": "stdout",
     "output_type": "stream",
     "text": [
      "Sveikas, f\n",
      "ailo skait\n",
      "ytojau!\n",
      "da\n",
      "r ka nors \n",
      "parasysiu\n",
      "\n",
      "ir dar ka \n",
      "nors...\n",
      "\n"
     ]
    }
   ],
   "source": [
    "#skaito po 10 simboliu arba tiek kiek nurodyta\n",
    "with open('Naujas/labas.txt', 'r') as failas:\n",
    "    while True:\n",
    "        buferis = failas.read(10)\n",
    "        print(buferis)\n",
    "        if len(buferis) < 10:\n",
    "            break"
   ]
  },
  {
   "cell_type": "code",
   "execution_count": 124,
   "metadata": {},
   "outputs": [],
   "source": [
    "#tai galima panaudoti failu kopijavimui\n",
    "# failu kopijavimas po 15 simboliu\n",
    "with open('Naujas/labas.txt', 'r') as failas:\n",
    "    with open('Naujas/kopija.txt', 'w') as kopija:\n",
    "        while True:\n",
    "            buferis = failas.read(15)\n",
    "            kopija.write(buferis)\n",
    "            if len(buferis) < 15:\n",
    "                break\n",
    "        "
   ]
  },
  {
   "cell_type": "code",
   "execution_count": 125,
   "metadata": {},
   "outputs": [],
   "source": [
    "# failu kopijavimas po eilute\n",
    "with open('Naujas/labas.txt', 'r') as failas:\n",
    "    with open('Naujas/kopija1.txt', 'w') as kopija:\n",
    "        for eilute in failas:\n",
    "            kopija.write(eilute)\n"
   ]
  },
  {
   "cell_type": "code",
   "execution_count": 128,
   "metadata": {},
   "outputs": [
    {
     "ename": "FileNotFoundError",
     "evalue": "[Errno 2] No such file or directory: 'Naujas/ddb4825a690bba1a7568c687919deca8.jpeg'",
     "output_type": "error",
     "traceback": [
      "\u001b[1;31m---------------------------------------------------------------------------\u001b[0m",
      "\u001b[1;31mFileNotFoundError\u001b[0m                         Traceback (most recent call last)",
      "Cell \u001b[1;32mIn [128], line 3\u001b[0m\n\u001b[0;32m      1\u001b[0m \u001b[38;5;66;03m#tai galima panaudoti failu kopijavimui\u001b[39;00m\n\u001b[0;32m      2\u001b[0m \u001b[38;5;66;03m# failu kopijavimas po 15 simboliu\u001b[39;00m\n\u001b[1;32m----> 3\u001b[0m \u001b[38;5;28;01mwith\u001b[39;00m \u001b[38;5;28;43mopen\u001b[39;49m\u001b[43m(\u001b[49m\u001b[38;5;124;43m'\u001b[39;49m\u001b[38;5;124;43mNaujas/ddb4825a690bba1a7568c687919deca8.jpeg\u001b[39;49m\u001b[38;5;124;43m'\u001b[39;49m\u001b[43m,\u001b[49m\u001b[43m \u001b[49m\u001b[38;5;124;43m'\u001b[39;49m\u001b[38;5;124;43mr\u001b[39;49m\u001b[38;5;124;43m'\u001b[39;49m\u001b[43m)\u001b[49m \u001b[38;5;28;01mas\u001b[39;00m failas:\n\u001b[0;32m      4\u001b[0m     \u001b[38;5;28;01mwith\u001b[39;00m \u001b[38;5;28mopen\u001b[39m(\u001b[38;5;124m'\u001b[39m\u001b[38;5;124mNaujas/ddb4825a690bba1a7568c687919deca81.jpeg\u001b[39m\u001b[38;5;124m'\u001b[39m, \u001b[38;5;124m'\u001b[39m\u001b[38;5;124mw\u001b[39m\u001b[38;5;124m'\u001b[39m) \u001b[38;5;28;01mas\u001b[39;00m kopija:\n\u001b[0;32m      5\u001b[0m         \u001b[38;5;28;01mwhile\u001b[39;00m \u001b[38;5;28;01mTrue\u001b[39;00m:\n",
      "\u001b[1;31mFileNotFoundError\u001b[0m: [Errno 2] No such file or directory: 'Naujas/ddb4825a690bba1a7568c687919deca8.jpeg'"
     ]
    }
   ],
   "source": [
    "#tai galima panaudoti paveikslelio kopijavimui\n",
    "#buferis tarnauja kaip laikina talpykla(operatyvines atminties kiekis) ir kopijuoja po gabaliuka\n",
    "\n",
    "with open('Naujas/ddb4825a690bba1a7568c687919deca8.jpeg', 'r') as failas:\n",
    "    with open('Naujas/ddb4825a690bba1a7568c687919deca81.jpeg', 'w') as kopija:\n",
    "        while True:\n",
    "            buferis = failas.read(1000)\n",
    "            kopija.write(buferis)\n",
    "            if len(buferis) < 1000:\n",
    "                break"
   ]
  },
  {
   "cell_type": "markdown",
   "metadata": {},
   "source": [
    "# uzduotys"
   ]
  },
  {
   "cell_type": "code",
   "execution_count": null,
   "metadata": {},
   "outputs": [],
   "source": [
    "# 1 užduotis\n",
    "\n",
    "# Sukurti programą, kuri:\n",
    "\n",
    "#     Sukurtų failą „Tekstas.txt“ su pilnu tekstu, gauto python kode paleidus „import this“.\n",
    "#     Atspausdintų tekstą iš sukurto failo\n",
    "#     Paskutinėje sukurto failo eilutėje pridėtų šiandienos datą ir laiką\n",
    "#     Sunumeruotų teksto eilutes (kiekvienos pradžioje pridėtų skaičių).\n",
    "#     Sukurtame faile eilutę \"Beautiful is better than ugly.\" pakeistų į \"Gražu yra geriau nei bjauru.\"\n",
    "#     Atspausdintų visą failo tekstą atbulai\n",
    "#     Atspausdintų, kiek failo tekste yra žodžių, skaičių, didžiųjų ir mažųjų raidžių\n",
    "#     Nukopijuotų visą sukurto failą tekstą į naują failą, tik DIDŽIOSIOMIS RAIDĖMIS\n"
   ]
  },
  {
   "cell_type": "code",
   "execution_count": 67,
   "metadata": {},
   "outputs": [
    {
     "name": "stdout",
     "output_type": "stream",
     "text": [
      "The Zen of Python, by Tim Peters\n",
      "\n",
      "Beautiful is better than ugly.\n",
      "Explicit is better than implicit.\n",
      "Simple is better than complex.\n",
      "Complex is better than complicated.\n",
      "Flat is better than nested.\n",
      "Sparse is better than dense.\n",
      "Readability counts.\n",
      "Special cases aren't special enough to break the rules.\n",
      "Although practicality beats purity.\n",
      "Errors should never pass silently.\n",
      "Unless explicitly silenced.\n",
      "In the face of ambiguity, refuse the temptation to guess.\n",
      "There should be one-- and preferably only one --obvious way to do it.\n",
      "Although that way may not be obvious at first unless you're Dutch.\n",
      "Now is better than never.\n",
      "Although never is often better than *right* now.\n",
      "If the implementation is hard to explain, it's a bad idea.\n",
      "If the implementation is easy to explain, it may be a good idea.\n",
      "Namespaces are one honking great idea -- let's do more of those!\n"
     ]
    }
   ],
   "source": [
    "import this"
   ]
  },
  {
   "cell_type": "code",
   "execution_count": 3,
   "metadata": {},
   "outputs": [],
   "source": [
    "eilerastis = '''The Zen of Python, by Tim Peters\\n\n",
    "Beautiful is better than ugly.\n",
    "Explicit is better than implicit.\n",
    "Simple is better than complex.\n",
    "Complex is better than complicated.\n",
    "Flat is better than nested.\n",
    "Sparse is better than dense.\n",
    "Readability counts.\n",
    "Special cases aren't special enough to break the rules.\n",
    "Although practicality beats purity.\n",
    "Errors should never pass silently.\n",
    "Unless explicitly silenced.\n",
    "In the face of ambiguity, refuse the temptation to guess.\n",
    "There should be one-- and preferably only one --obvious way to do it.\n",
    "Although that way may not be obvious at first unless you're Dutch.\n",
    "Now is better than never.\n",
    "Although never is often better than *right* now.\n",
    "If the implementation is hard to explain, it's a bad idea.\n",
    "If the implementation is easy to explain, it may be a good idea.\n",
    "Namespaces are one honking great idea -- let's do more of those!'''"
   ]
  },
  {
   "cell_type": "code",
   "execution_count": 153,
   "metadata": {},
   "outputs": [],
   "source": [
    "os.chdir('c:\\\\Users\\\\jzymo\\\\Documents\\\\python_codeacademy\\\\intro')"
   ]
  },
  {
   "cell_type": "code",
   "execution_count": 4,
   "metadata": {},
   "outputs": [],
   "source": [
    "with open(\"Naujas/Tekstas.txt\",\"w\", encoding='utf-8') as tekstinis:\n",
    "    tekstinis.write(eilerastis)"
   ]
  },
  {
   "cell_type": "code",
   "execution_count": 5,
   "metadata": {},
   "outputs": [
    {
     "name": "stdout",
     "output_type": "stream",
     "text": [
      "The Zen of Python, by Tim Peters\n",
      "\n",
      "Beautiful is better than ugly.\n",
      "Explicit is better than implicit.\n",
      "Simple is better than complex.\n",
      "Complex is better than complicated.\n",
      "Flat is better than nested.\n",
      "Sparse is better than dense.\n",
      "Readability counts.\n",
      "Special cases aren't special enough to break the rules.\n",
      "Although practicality beats purity.\n",
      "Errors should never pass silently.\n",
      "Unless explicitly silenced.\n",
      "In the face of ambiguity, refuse the temptation to guess.\n",
      "There should be one-- and preferably only one --obvious way to do it.\n",
      "Although that way may not be obvious at first unless you're Dutch.\n",
      "Now is better than never.\n",
      "Although never is often better than *right* now.\n",
      "If the implementation is hard to explain, it's a bad idea.\n",
      "If the implementation is easy to explain, it may be a good idea.\n",
      "Namespaces are one honking great idea -- let's do more of those!\n"
     ]
    }
   ],
   "source": [
    "with open(\"Naujas/Tekstas.txt\",\"r\", encoding='utf-8') as tekstinis:\n",
    "    print(tekstinis.read())"
   ]
  },
  {
   "cell_type": "code",
   "execution_count": 8,
   "metadata": {},
   "outputs": [],
   "source": [
    "with open(\"Naujas/Tekstas.txt\",\"a\", encoding='utf-8') as tekstinis:\n",
    "    data = datetime.today()\n",
    "    tekstinis.write(str(data))"
   ]
  },
  {
   "cell_type": "code",
   "execution_count": 9,
   "metadata": {},
   "outputs": [
    {
     "name": "stdout",
     "output_type": "stream",
     "text": [
      "The Zen of Python, by Tim Peters\n",
      "\n",
      "Beautiful is better than ugly.\n",
      "Explicit is better than implicit.\n",
      "Simple is better than complex.\n",
      "Complex is better than complicated.\n",
      "Flat is better than nested.\n",
      "Sparse is better than dense.\n",
      "Readability counts.\n",
      "Special cases aren't special enough to break the rules.\n",
      "Although practicality beats purity.\n",
      "Errors should never pass silently.\n",
      "Unless explicitly silenced.\n",
      "In the face of ambiguity, refuse the temptation to guess.\n",
      "There should be one-- and preferably only one --obvious way to do it.\n",
      "Although that way may not be obvious at first unless you're Dutch.\n",
      "Now is better than never.\n",
      "Although never is often better than *right* now.\n",
      "If the implementation is hard to explain, it's a bad idea.\n",
      "If the implementation is easy to explain, it may be a good idea.\n",
      "Namespaces are one honking great idea -- let's do more of those!2022-09-13 08:17:36.102548\n"
     ]
    }
   ],
   "source": [
    "with open(\"Naujas/Tekstas.txt\",\"r\", encoding='utf-8') as tekstinis:\n",
    "    print(tekstinis.read())"
   ]
  },
  {
   "cell_type": "code",
   "execution_count": 10,
   "metadata": {},
   "outputs": [
    {
     "name": "stdout",
     "output_type": "stream",
     "text": [
      "0 The Zen of Python, by Tim Peters\n",
      "\n",
      "1 \n",
      "\n",
      "2 Beautiful is better than ugly.\n",
      "\n",
      "3 Explicit is better than implicit.\n",
      "\n",
      "4 Simple is better than complex.\n",
      "\n",
      "5 Complex is better than complicated.\n",
      "\n",
      "6 Flat is better than nested.\n",
      "\n",
      "7 Sparse is better than dense.\n",
      "\n",
      "8 Readability counts.\n",
      "\n",
      "9 Special cases aren't special enough to break the rules.\n",
      "\n",
      "10 Although practicality beats purity.\n",
      "\n",
      "11 Errors should never pass silently.\n",
      "\n",
      "12 Unless explicitly silenced.\n",
      "\n",
      "13 In the face of ambiguity, refuse the temptation to guess.\n",
      "\n",
      "14 There should be one-- and preferably only one --obvious way to do it.\n",
      "\n",
      "15 Although that way may not be obvious at first unless you're Dutch.\n",
      "\n",
      "16 Now is better than never.\n",
      "\n",
      "17 Although never is often better than *right* now.\n",
      "\n",
      "18 If the implementation is hard to explain, it's a bad idea.\n",
      "\n",
      "19 If the implementation is easy to explain, it may be a good idea.\n",
      "\n",
      "20 Namespaces are one honking great idea -- let's do more of those!2022-09-13 08:17:36.102548\n"
     ]
    }
   ],
   "source": [
    "with open(\"Naujas/Tekstas.txt\",\"r\", encoding='utf-8') as skaitomas:\n",
    "    eilutes = skaitomas.readlines()\n",
    "for indeksas,eilute in enumerate(eilutes):\n",
    "    print(indeksas, eilute)\n"
   ]
  },
  {
   "cell_type": "code",
   "execution_count": 11,
   "metadata": {},
   "outputs": [
    {
     "name": "stdout",
     "output_type": "stream",
     "text": [
      "['The Zen of Python, by Tim Peters\\n', '\\n', 'Gražu yra geriau nei bjauru.\\n', 'Explicit is better than implicit.\\n', 'Simple is better than complex.\\n', 'Complex is better than complicated.\\n', 'Flat is better than nested.\\n', 'Sparse is better than dense.\\n', 'Readability counts.\\n', \"Special cases aren't special enough to break the rules.\\n\", 'Although practicality beats purity.\\n', 'Errors should never pass silently.\\n', 'Unless explicitly silenced.\\n', 'In the face of ambiguity, refuse the temptation to guess.\\n', 'There should be one-- and preferably only one --obvious way to do it.\\n', \"Although that way may not be obvious at first unless you're Dutch.\\n\", 'Now is better than never.\\n', 'Although never is often better than *right* now.\\n', \"If the implementation is hard to explain, it's a bad idea.\\n\", 'If the implementation is easy to explain, it may be a good idea.\\n', \"Namespaces are one honking great idea -- let's do more of those!2022-09-13 08:17:36.102548\"]\n"
     ]
    }
   ],
   "source": [
    "#     Sukurtame faile eilutę \"Beautiful is better than ugly.\" pakeistų į \"Gražu yra geriau nei bjauru.\"\n",
    "\n",
    "with open(\"Naujas/Tekstas.txt\",\"r\", encoding='utf-8') as taisomas:\n",
    "    eilutes = taisomas.readlines()\n",
    "eilutes[2] = eilutes[2].replace('Beautiful is better than ugly.','Gražu yra geriau nei bjauru.')\n",
    "print(eilutes)\n",
    "with open(\"Naujas/Tekstas.txt\",\"w\", encoding='utf-8') as pataisytas:\n",
    "    pataisytas.writelines(eilutes)\n"
   ]
  },
  {
   "cell_type": "code",
   "execution_count": 12,
   "metadata": {},
   "outputs": [],
   "source": [
    "# Atspausdintų visą failo tekstą atbulai\n",
    "with open(\"Naujas/Tekstas.txt\",\"r\") as taisomas:\n",
    "    tekstas_is_failo = taisomas.read()"
   ]
  },
  {
   "cell_type": "code",
   "execution_count": 13,
   "metadata": {},
   "outputs": [
    {
     "name": "stdout",
     "output_type": "stream",
     "text": [
      "845201.63:71:80 31-90-2202!esoht fo erom od s'tel -- aedi taerg gniknoh eno era secapsemaN\n",
      ".aedi doog a eb yam ti ,nialpxe ot ysae si noitatnemelpmi eht fI\n",
      ".aedi dab a s'ti ,nialpxe ot drah si noitatnemelpmi eht fI\n",
      ".won *thgir* naht retteb netfo si reven hguohtlA\n",
      ".reven naht retteb si woN\n",
      ".hctuD er'uoy sselnu tsrif ta suoivbo eb ton yam yaw taht hguohtlA\n",
      ".ti od ot yaw suoivbo-- eno ylno ylbareferp dna --eno eb dluohs erehT\n",
      ".sseug ot noitatpmet eht esufer ,ytiugibma fo ecaf eht nI\n",
      ".decnelis ylticilpxe sselnU\n",
      ".yltnelis ssap reven dluohs srorrE\n",
      ".ytirup staeb ytilacitcarp hguohtlA\n",
      ".selur eht kaerb ot hguone laiceps t'nera sesac laicepS\n",
      ".stnuoc ytilibadaeR\n",
      ".esned naht retteb si esrapS\n",
      ".detsen naht retteb si talF\n",
      ".detacilpmoc naht retteb si xelpmoC\n",
      ".xelpmoc naht retteb si elpmiS\n",
      ".ticilpmi naht retteb si ticilpxE\n",
      ".uruajb ien uaireg ary u¾ÅarG\n",
      "\n",
      "sreteP miT yb ,nohtyP fo neZ ehT\n"
     ]
    }
   ],
   "source": [
    "print(tekstas_is_failo[::-1])"
   ]
  },
  {
   "cell_type": "code",
   "execution_count": 14,
   "metadata": {},
   "outputs": [],
   "source": [
    "# Atspausdintų, kiek failo tekste yra žodžių, skaičių, didžiųjų ir mažųjų raidžių\n",
    "def skaiciuojam_tekste(tekstas):\n",
    "    didziosios = 0\n",
    "    mazosios = 0\n",
    "    skaiciai = 0\n",
    "    for raide in tekstas:\n",
    "        if(raide.isupper()):\n",
    "            didziosios += 1\n",
    "        elif(raide.islower()):\n",
    "            mazosios += 1\n",
    "        elif(raide.isnumeric()):\n",
    "            skaiciai +=1\n",
    "    print(len(tekstas.split()),' zodziai', '\\n', didziosios, 'didziuju raidziu', '\\n', mazosios, 'mazuju raidziu', '\\n', skaiciai, 'skaiciu')"
   ]
  },
  {
   "cell_type": "code",
   "execution_count": 15,
   "metadata": {},
   "outputs": [
    {
     "name": "stdout",
     "output_type": "stream",
     "text": [
      "145  zodziai \n",
      " 26 didziuju raidziu \n",
      " 649 mazuju raidziu \n",
      " 21 skaiciu\n"
     ]
    }
   ],
   "source": [
    "skaiciuojam_tekste(tekstas_is_failo)"
   ]
  },
  {
   "cell_type": "code",
   "execution_count": 16,
   "metadata": {},
   "outputs": [],
   "source": [
    "# Nukopijuotų visą sukurto failą tekstą į naują failą, tik DIDŽIOSIOMIS RAIDĖMIS\n",
    "tekstas_is_failo_didziosiomis = tekstas_is_failo.upper()\n"
   ]
  },
  {
   "cell_type": "code",
   "execution_count": 17,
   "metadata": {},
   "outputs": [],
   "source": [
    "with open('Naujas/Tekstas.txt', 'r',encoding='utf-8') as failas:\n",
    "    with open('Naujas/Tekstas_kopija.txt', 'w',encoding='utf-8') as kopija:\n",
    "        while True:\n",
    "            buferis = (failas.read(15)).upper()\n",
    "            kopija.write(buferis)\n",
    "            if len(buferis) < 15:\n",
    "                break"
   ]
  },
  {
   "cell_type": "code",
   "execution_count": null,
   "metadata": {},
   "outputs": [],
   "source": [
    "# 2 užduotis\n",
    "# Sukurti programą, kuri:\n",
    "\n",
    "#     Leistų vartotojui įvesti norimą eilučių kiekį\n",
    "#     Įrašytų įvestą tekstą atskiromis eilutėmis į failą\n",
    "#     Leistų vartotojui įrašyti norimą kuriamo failo pavadinimą\n",
    "\n",
    "# Patarimai:\n",
    "\n",
    "#     Sukurti while ciklą, kuris užsibaigtų tik įvedus vartotojui tuščią eilutę (nuspaudus ENTER)\n"
   ]
  },
  {
   "cell_type": "code",
   "execution_count": 22,
   "metadata": {},
   "outputs": [],
   "source": [
    "tekstas = ''\n",
    "\n",
    "while True:\n",
    "        ivestas_tekstas = input('Iveskite teksta i eilute: ')\n",
    "        if ivestas_tekstas != '':\n",
    "            tekstas += ivestas_tekstas + '\\n' \n",
    "        else:\n",
    "            break\n",
    "\n",
    "failo_pavadinimas = input(\"Įveskite failo pavadinimą: \")\n",
    "\n",
    "with open(failo_pavadinimas + '.txt', 'w', encoding='utf-8') as failas:\n",
    "    failas.write(tekstas)\n",
    "        "
   ]
  },
  {
   "cell_type": "code",
   "execution_count": null,
   "metadata": {},
   "outputs": [],
   "source": [
    "# 3 užduotis\n",
    "# Sukurti programą, kuri:\n",
    "\n",
    "#     Kompiuterio darbalaukyje (Desktop) sukurtų katalogą „Naujas Katalogas“\n",
    "#     Šiame kataloge sukurtų tekstinį failą, kuriame būtų šiandienos data ir laikas\n",
    "#     Atspausdintų šio tekstinio failo sukūrimo datą ir dydį baitais\n",
    "\n",
    "# Patarimai:\n",
    "#     Failo sukūrimo datą galima pasiekti per os.stat(„Failas.txt“).st_ctime\n"
   ]
  },
  {
   "cell_type": "code",
   "execution_count": 141,
   "metadata": {},
   "outputs": [],
   "source": [
    "os.chdir(\"c:\\\\Users\\\\jzymo\\\\Desktop\")"
   ]
  },
  {
   "cell_type": "code",
   "execution_count": 142,
   "metadata": {},
   "outputs": [],
   "source": [
    "os.mkdir('Naujas katalogas')"
   ]
  },
  {
   "cell_type": "code",
   "execution_count": 144,
   "metadata": {},
   "outputs": [],
   "source": [
    "with open('Naujas katalogas/data.txt', 'w') as failas:\n",
    "    data = datetime.today()\n",
    "    failas.write(str(data))"
   ]
  },
  {
   "cell_type": "code",
   "execution_count": 147,
   "metadata": {},
   "outputs": [],
   "source": [
    "os.chdir(\"c:\\\\Users\\\\jzymo\\\\Desktop\\\\Naujas katalogas\")"
   ]
  },
  {
   "cell_type": "code",
   "execution_count": 151,
   "metadata": {},
   "outputs": [
    {
     "name": "stdout",
     "output_type": "stream",
     "text": [
      "1662984406.2767036\n",
      "2022-09-12 15:06:46.276704 failo sukurimo data\n",
      "26 failo dydis baitais\n"
     ]
    }
   ],
   "source": [
    "print(os.stat('data.txt').st_ctime) #st_ctime failo sukurimo laikas\n",
    "print(datetime.fromtimestamp(os.stat('data.txt').st_ctime), 'failo sukurimo data')\n",
    "print(os.stat('data.txt').st_size, 'failo dydis baitais')"
   ]
  }
 ],
 "metadata": {
  "kernelspec": {
   "display_name": "Python 3.10.7 ('venv': venv)",
   "language": "python",
   "name": "python3"
  },
  "language_info": {
   "codemirror_mode": {
    "name": "ipython",
    "version": 3
   },
   "file_extension": ".py",
   "mimetype": "text/x-python",
   "name": "python",
   "nbconvert_exporter": "python",
   "pygments_lexer": "ipython3",
   "version": "3.10.7"
  },
  "orig_nbformat": 4,
  "vscode": {
   "interpreter": {
    "hash": "6de887b4c384460d342b5baf6bfe7e2ff1890b24938af7c10c565ff6b284cde1"
   }
  }
 },
 "nbformat": 4,
 "nbformat_minor": 2
}
