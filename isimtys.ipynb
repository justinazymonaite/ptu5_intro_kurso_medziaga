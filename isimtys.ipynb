{
 "cells": [
  {
   "cell_type": "code",
   "execution_count": 5,
   "metadata": {},
   "outputs": [
    {
     "name": "stdout",
     "output_type": "stream",
     "text": [
      "dalyba is 0 negalima\n"
     ]
    }
   ],
   "source": [
    "# pirmas budas\n",
    "sk1 = int(input('iveskite skaiciu: '))\n",
    "sk2 = int(input('iveskite skaiciu: '))\n",
    "if sk2 == 0:\n",
    "    print('dalyba is 0 negalima')\n",
    "else:\n",
    "    print(sk1/sk2)"
   ]
  },
  {
   "cell_type": "code",
   "execution_count": 7,
   "metadata": {},
   "outputs": [
    {
     "name": "stdout",
     "output_type": "stream",
     "text": [
      "1.6666666666666667\n",
      "programa vis dar veikia iki dabar\n"
     ]
    }
   ],
   "source": [
    "# antras budas\n",
    "try:\n",
    "    sk1 = int(input('iveskite skaiciu: '))\n",
    "    sk2 = int(input('iveskite skaiciu: '))\n",
    "    atsakymas = sk1/sk2\n",
    "except ValueError:\n",
    "    print('ivestas ne skaicius')\n",
    "except ZeroDivisionError:\n",
    "    print('dalyba is 0 negalima')\n",
    "else: # jei ivyko klaida, tai else saka nevykdoma\n",
    "    print(atsakymas) \n",
    "finally: # finally dali programa vykdo ir jei ivyko klaida\n",
    "    print('programa vis dar veikia iki dabar')"
   ]
  },
  {
   "cell_type": "code",
   "execution_count": 8,
   "metadata": {},
   "outputs": [],
   "source": [
    "while True:\n",
    "    try:\n",
    "        skaicius = float(input('iveskite skaiciu: '))\n",
    "    except ValueError:\n",
    "        print('Bandykite dar karta')\n",
    "    else:\n",
    "        break"
   ]
  },
  {
   "cell_type": "code",
   "execution_count": 10,
   "metadata": {},
   "outputs": [],
   "source": [
    "import datetime\n",
    "from datetime import date, time, datetime, timedelta"
   ]
  },
  {
   "cell_type": "code",
   "execution_count": 19,
   "metadata": {},
   "outputs": [
    {
     "name": "stdout",
     "output_type": "stream",
     "text": [
      "33 metu 10 menesiu 27 dienu 21 valandu 29 minuciu 21 sekundziu\n"
     ]
    }
   ],
   "source": [
    "# 4/5 uzduotis\n",
    "while True:\n",
    "    try:\n",
    "        ivesta_data_laikas = input(\"Įveskite datą ir laika YYYY-MM-DD HH:MM:SS formatu: \")\n",
    "        suformatuota_ivestis = datetime.strptime(ivesta_data_laikas, \"%Y-%m-%d %H:%M:%S\")\n",
    "    except ValueError:\n",
    "        print('Blogai ivestas datos formatas')\n",
    "    else:\n",
    "        dabar = datetime.now()\n",
    "        skirtumas_tarp_datu = dabar - suformatuota_ivestis\n",
    "        metu = int(skirtumas_tarp_datu.days / 365)\n",
    "        menesiu = int(skirtumas_tarp_datu.days / 365 * 12 - metu*12)\n",
    "        dienu = int(skirtumas_tarp_datu.days - metu*365 - menesiu*30)\n",
    "        valandu= skirtumas_tarp_datu.seconds // 60 // 60\n",
    "        minuciu= skirtumas_tarp_datu.seconds // 60 - valandu * 60\n",
    "        sekundziu= skirtumas_tarp_datu.seconds - valandu * 60 *60 - minuciu *60\n",
    "        print(metu, 'metu', menesiu, 'menesiu', dienu, 'dienu',valandu, 'valandu', minuciu, 'minuciu', sekundziu, 'sekundziu')\n",
    "        break"
   ]
  },
  {
   "cell_type": "code",
   "execution_count": 18,
   "metadata": {},
   "outputs": [
    {
     "name": "stdout",
     "output_type": "stream",
     "text": [
      "ivestas ne sveikasis skaicius, bandykite dar karta\n",
      "ivestas ne sveikasis skaicius, bandykite dar karta\n",
      "True\n"
     ]
    }
   ],
   "source": [
    "# 4/5 uzduotis\n",
    "while True:\n",
    "    try:\n",
    "        sveikas_skaicius = int(input('Iveskite skaiciu: '))\n",
    "        ar_skaicius_teigiamas = sveikas_skaicius > 0 \n",
    "    except ValueError:\n",
    "        print('ivestas ne sveikasis skaicius, bandykite dar karta')\n",
    "    else:\n",
    "        break\n",
    "\n",
    "print(ar_skaicius_teigiamas)"
   ]
  },
  {
   "cell_type": "code",
   "execution_count": null,
   "metadata": {},
   "outputs": [],
   "source": []
  }
 ],
 "metadata": {
  "kernelspec": {
   "display_name": "Python 3.10.7 ('venv': venv)",
   "language": "python",
   "name": "python3"
  },
  "language_info": {
   "codemirror_mode": {
    "name": "ipython",
    "version": 3
   },
   "file_extension": ".py",
   "mimetype": "text/x-python",
   "name": "python",
   "nbconvert_exporter": "python",
   "pygments_lexer": "ipython3",
   "version": "3.10.7"
  },
  "orig_nbformat": 4,
  "vscode": {
   "interpreter": {
    "hash": "6de887b4c384460d342b5baf6bfe7e2ff1890b24938af7c10c565ff6b284cde1"
   }
  }
 },
 "nbformat": 4,
 "nbformat_minor": 2
}
